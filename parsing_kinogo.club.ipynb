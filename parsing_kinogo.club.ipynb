{
 "cells": [
  {
   "cell_type": "code",
   "execution_count": 1,
   "metadata": {
    "collapsed": true
   },
   "outputs": [],
   "source": [
    "from bs4 import BeautifulSoup\n",
    "import requests"
   ]
  },
  {
   "cell_type": "code",
   "execution_count": 58,
   "metadata": {
    "collapsed": true
   },
   "outputs": [],
   "source": [
    "import urllib"
   ]
  },
  {
   "cell_type": "code",
   "execution_count": 66,
   "metadata": {
    "collapsed": true
   },
   "outputs": [],
   "source": [
    "import re"
   ]
  },
  {
   "cell_type": "code",
   "execution_count": 2,
   "metadata": {
    "collapsed": true
   },
   "outputs": [],
   "source": [
    "DOMAIN = 'http://kinogo.club'"
   ]
  },
  {
   "cell_type": "code",
   "execution_count": 16,
   "metadata": {
    "collapsed": true
   },
   "outputs": [],
   "source": [
    "# response = requests.get(DOMAIN)\n",
    "# html = requests.get(DOMAIN).text\n",
    "# soup = BeautifulSoup(html, 'lxml')\n",
    "# links = [a.get('href') for a in soup.find_all('a')]\n",
    "# links_kinogo = list(filter(lambda x: x.startswith(DOMAIN), links))"
   ]
  },
  {
   "cell_type": "code",
   "execution_count": 57,
   "metadata": {
    "collapsed": false
   },
   "outputs": [
    {
     "data": {
      "text/plain": [
       "546"
      ]
     },
     "execution_count": 57,
     "metadata": {},
     "output_type": "execute_result"
    }
   ],
   "source": [
    "last_page_number = int(soup.find(attrs={'class':'bot-navigation'}).find_all('a')[-2].get_text())\n",
    "last_page_number"
   ]
  },
  {
   "cell_type": "code",
   "execution_count": 59,
   "metadata": {
    "collapsed": true
   },
   "outputs": [],
   "source": [
    "links_kinogo = []\n",
    "for page in range(last_page_number):\n",
    "    url = '{}/page/{}/'.format(DOMAIN, page + 1)\n",
    "    html = requests.get(url).text\n",
    "    soup = BeautifulSoup(html, 'lxml')\n",
    "    current_links = [a.get('href') for a in soup.find_all('a')]\n",
    "    current_links_kinogo = list(filter(lambda x: x.startswith(DOMAIN), current_links))\n",
    "    links_kinogo += current_links_kinogo"
   ]
  },
  {
   "cell_type": "code",
   "execution_count": 61,
   "metadata": {
    "collapsed": false
   },
   "outputs": [],
   "source": [
    "links_kinogo = list(set(links_kinogo))\n",
    "links_kinogo.sort()\n",
    "print(len(links_kinogo))"
   ]
  },
  {
   "cell_type": "code",
   "execution_count": 79,
   "metadata": {
    "collapsed": false
   },
   "outputs": [],
   "source": [
    "links_to_movies = list(filter(lambda x: re.search('^http://kinogo\\.club/\\d', x), \n",
    "                              links_kinogo))\n",
    "\n",
    "print(len(links_to_movies))"
   ]
  },
  {
   "cell_type": "code",
   "execution_count": 115,
   "metadata": {
    "collapsed": false
   },
   "outputs": [],
   "source": [
    "movies_titles = []\n",
    "for url in links_to_movies:\n",
    "    html = requests.get(url).text\n",
    "    soup = BeautifulSoup(html, 'lxml')\n",
    "    try:\n",
    "        title = soup.find('title').get_text().encode('windows-1252').decode('windows-1251')\n",
    "    except UnicodeEncodeError:\n",
    "        continue\n",
    "    movies_titles.append(title)\n",
    "\n",
    "movies_titles[:4]"
   ]
  },
  {
   "cell_type": "code",
   "execution_count": 145,
   "metadata": {
    "collapsed": false
   },
   "outputs": [],
   "source": [
    "links_to_categories = list(filter(lambda x: re.search('^http://kinogo\\.club/[^0-9(page)]', x), \n",
    "                              links_kinogo))"
   ]
  },
  {
   "cell_type": "code",
   "execution_count": 157,
   "metadata": {
    "collapsed": false
   },
   "outputs": [],
   "source": [
    "links_to_categories = list(filter(lambda x: x.endswith('/'), links_to_categories))"
   ]
  },
  {
   "cell_type": "code",
   "execution_count": null,
   "metadata": {
    "collapsed": true
   },
   "outputs": [],
   "source": [
    "categories_titles = []\n",
    "for url in links_to_categories:\n",
    "    html = requests.get(url).text\n",
    "    soup = BeautifulSoup(html, 'lxml')\n",
    "    try:\n",
    "        title = soup.find('title').get_text().encode('windows-1252').decode('windows-1251')\n",
    "    except UnicodeEncodeError:\n",
    "        continue\n",
    "    categories_titles.append(title)"
   ]
  },
  {
   "cell_type": "code",
   "execution_count": 160,
   "metadata": {
    "collapsed": false
   },
   "outputs": [
    {
     "data": {
      "text/plain": [
       "['Биография онлайн, смотреть Биографические фильмы онлайн в хорошем качестве',\n",
       " 'Биография онлайн, смотреть Биографические фильмы онлайн в хорошем качестве',\n",
       " 'Смотреть Боевики онлайн - Боевики 2014, 2013 в хорошем качестве',\n",
       " 'Детективы смотреть онлайн бесплатно, смотреть фильмы детективы в хорошем качестве',\n",
       " 'Смотреть детские фильмы, лучшие фильмы для детей смотреть онлайн',\n",
       " 'Смотреть документальные фильмы онлайн, документальное кино онлайн',\n",
       " 'Драма онлайн, фильмы драмы 2013 и 2014 смотреть бесплатно',\n",
       " 'Фантастика смотреть онлайн, фильмы фантастика 2012, 2013 в хорошем качестве',\n",
       " 'Фильмы 2016 смотреть онлайн, смотреть лучшие кино новинки 2016 в хорошем качестве',\n",
       " 'Cмотреть онлайн фильмы 2011',\n",
       " 'Фильмы 2012 онлайн новинки, смотреть фильмы 2012 в хорошем качестве',\n",
       " 'Фильмы 2013 смотреть онлайн, смотреть кино 2013 новинки в хорошем качестве',\n",
       " 'Фильмы 2014 смотреть онлайн, смотреть лучшие кино новинки 2014 в хорошем качестве',\n",
       " 'Фильмы 2015 смотреть онлайн, смотреть кино новинки 2015 в хорошем качестве',\n",
       " 'Фэнтези онлайн, фильмы фэнтези 2012, 2013 в хорошем качестве',\n",
       " 'Французское кино, смотреть французские фильмы онлайн',\n",
       " 'Смотреть индийские фильмы онлайн в хорошем качестве, индийское кино',\n",
       " 'Исторические фильмы онлайн, смотреть исторические фильмы в хорошем качестве',\n",
       " 'Комедии онлайн, смотреть комедии 2014, 2013 в хорошем качестве',\n",
       " 'Смотреть криминальные фильмы онлайн - Криминал 2012, 2013 в хорошем качестве',\n",
       " 'Смотреть мелодрамы онлайн, русские мелодрамы онлайн в хорошем качестве',\n",
       " 'Смотреть мюзиклы онлайн бесплатно, мюзикл в хорошем качестве',\n",
       " 'Мультфильмы онлайн, смотреть мультфильмы 2013, 2014 в хорошем качестве',\n",
       " 'Немецкие фильмы онлайн, немецкие фильмы в хорошем качестве',\n",
       " 'Смотреть отечественные фильмы онлайн, отечественные фильмы в хорошем качестве',\n",
       " 'Смотреть отечественные фильмы онлайн, отечественные фильмы в хорошем качестве',\n",
       " 'Смотреть русские фильмы онлайн, русские фильмы 2012, 2013 в хорошем качестве',\n",
       " 'Семейные фильмы онлайн, смотреть семейное кино бесплатно',\n",
       " 'Cмотреть спортивные фильмы онлайн, фильмы о спорте',\n",
       " 'Триллеры смотреть онлайн, фильмы триллеры 2013, 2014 в хорошем качестве',\n",
       " 'Турецкие сериалы смотреть онлайн на русском языке бесплатно',\n",
       " 'Смотреть ужасы онлайн, фильмы ужасов новинки бесплатно',\n",
       " 'Смотреть онлайн вестерны, фильмы вестерны 2012 бесплатно',\n",
       " 'Военные фильмы онлайн, русские военные фильмы смотреть онлайн бесплатно',\n",
       " 'Смотреть Зарубежные сериалы онлайн бесплатно - Зарубежные сериалы 2013, 2014 в хорошем качестве']"
      ]
     },
     "execution_count": 160,
     "metadata": {},
     "output_type": "execute_result"
    }
   ],
   "source": [
    "categories_titles"
   ]
  },
  {
   "cell_type": "code",
   "execution_count": 115,
   "metadata": {
    "collapsed": false
   },
   "outputs": [],
   "source": [
    "# movies_descriptions = []\n",
    "# for url in links_to_movies:\n",
    "#     html = requests.get(url).text\n",
    "#     soup = BeautifulSoup(html, 'lxml')\n",
    "#     try:\n",
    "#         title = description = soup.find(attrs={'name' : 'description'}).encode('windows-1252').decode('windows-1251')\n",
    "#     except UnicodeEncodeError:\n",
    "#         continue\n",
    "#     movies_descriptions.append(title)"
   ]
  },
  {
   "cell_type": "code",
   "execution_count": null,
   "metadata": {
    "collapsed": true
   },
   "outputs": [],
   "source": [
    "# url = links_to_movies[0]\n",
    "# url\n",
    "# html = requests.get(url).text\n",
    "# soup = BeautifulSoup(html, 'lxml')\n",
    "# title = soup.find('title').get_text()\n",
    "# title.encode('windows-1252').decode('windows-1251')\n",
    "\n",
    "# description = soup.find(attrs={'name' : 'description'})\n",
    "\n",
    "# keywords.encode('windows-1252').decode('windows-1251')"
   ]
  },
  {
   "cell_type": "code",
   "execution_count": null,
   "metadata": {
    "collapsed": true
   },
   "outputs": [],
   "source": []
  }
 ],
 "metadata": {
  "anaconda-cloud": {},
  "kernelspec": {
   "display_name": "Python [default]",
   "language": "python",
   "name": "python3"
  },
  "language_info": {
   "codemirror_mode": {
    "name": "ipython",
    "version": 3
   },
   "file_extension": ".py",
   "mimetype": "text/x-python",
   "name": "python",
   "nbconvert_exporter": "python",
   "pygments_lexer": "ipython3",
   "version": "3.5.2"
  }
 },
 "nbformat": 4,
 "nbformat_minor": 1
}
