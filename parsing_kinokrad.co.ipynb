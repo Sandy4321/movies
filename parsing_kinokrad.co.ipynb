{
 "cells": [
  {
   "cell_type": "code",
   "execution_count": 2,
   "metadata": {
    "collapsed": true
   },
   "outputs": [],
   "source": [
    "from bs4 import BeautifulSoup\n",
    "import requests"
   ]
  },
  {
   "cell_type": "code",
   "execution_count": 3,
   "metadata": {
    "collapsed": true
   },
   "outputs": [],
   "source": [
    "import urllib"
   ]
  },
  {
   "cell_type": "code",
   "execution_count": 4,
   "metadata": {
    "collapsed": true
   },
   "outputs": [],
   "source": [
    "import re"
   ]
  },
  {
   "cell_type": "code",
   "execution_count": 5,
   "metadata": {
    "collapsed": true
   },
   "outputs": [],
   "source": [
    "DOMAIN = 'http://kinokrad.co'"
   ]
  },
  {
   "cell_type": "code",
   "execution_count": 8,
   "metadata": {
    "collapsed": false,
    "scrolled": true
   },
   "outputs": [
    {
     "data": {
      "text/plain": [
       "1057"
      ]
     },
     "execution_count": 8,
     "metadata": {},
     "output_type": "execute_result"
    }
   ],
   "source": [
    "html = requests.get(DOMAIN).text\n",
    "soup = BeautifulSoup(html, 'lxml')\n",
    "last_page_number = int(soup.find(attrs={'class':'navcent'}).find_all('a')[-1].get_text())\n",
    "last_page_number"
   ]
  },
  {
   "cell_type": "code",
   "execution_count": 10,
   "metadata": {
    "collapsed": false
   },
   "outputs": [],
   "source": [
    "links_kinokrad = []\n",
    "for page in range(last_page_number):\n",
    "    url = '{}/page/{}/'.format(DOMAIN, page + 1)\n",
    "    html = requests.get(url).text\n",
    "    soup = BeautifulSoup(html, 'lxml')\n",
    "    current_links = [a.get('href') for a in soup.find_all('a')]\n",
    "    current_links_site = list(filter(lambda x: x.startswith(DOMAIN), current_links))\n",
    "    links_kinokrad += current_links_site"
   ]
  },
  {
   "cell_type": "code",
   "execution_count": 11,
   "metadata": {
    "collapsed": false
   },
   "outputs": [],
   "source": [
    "links_kinokrad = list(set(links_kinokrad))"
   ]
  },
  {
   "cell_type": "code",
   "execution_count": 12,
   "metadata": {
    "collapsed": false
   },
   "outputs": [
    {
     "data": {
      "text/plain": [
       "13783"
      ]
     },
     "execution_count": 12,
     "metadata": {},
     "output_type": "execute_result"
    }
   ],
   "source": [
    "len(links_kinokrad)"
   ]
  },
  {
   "cell_type": "code",
   "execution_count": 13,
   "metadata": {
    "collapsed": false
   },
   "outputs": [],
   "source": [
    "links_kinokrad.sort()"
   ]
  },
  {
   "cell_type": "code",
   "execution_count": 15,
   "metadata": {
    "collapsed": false
   },
   "outputs": [
    {
     "data": {
      "text/plain": [
       "['http://kinokrad.co/',\n",
       " 'http://kinokrad.co/10016-ogon-kristiana-lubutena-2013-onlayn-film.html',\n",
       " 'http://kinokrad.co/10018-ograblenie-kazino-2012.html',\n",
       " 'http://kinokrad.co/10019-oderzhimaya-2014-smotret-onlayn.html',\n",
       " 'http://kinokrad.co/10029-odinnadcatoe-sentyabrya-1683-goda.html',\n",
       " 'http://kinokrad.co/10066-olenya-tropa.html',\n",
       " 'http://kinokrad.co/10072-ona-hochet-menya.html',\n",
       " 'http://kinokrad.co/10085-opera-na-ldu-2012-onlayn-film.html',\n",
       " 'http://kinokrad.co/10092-operaciya-argo-2012-onlayn-film.html',\n",
       " 'http://kinokrad.co/10112-osobo-opasny-2012-onlayn-film.html']"
      ]
     },
     "execution_count": 15,
     "metadata": {},
     "output_type": "execute_result"
    }
   ],
   "source": [
    "links_kinokrad[:10]"
   ]
  },
  {
   "cell_type": "code",
   "execution_count": 16,
   "metadata": {
    "collapsed": false
   },
   "outputs": [
    {
     "name": "stdout",
     "output_type": "stream",
     "text": [
      "12719\n"
     ]
    }
   ],
   "source": [
    "links_to_movies = list(filter(lambda x: re.search('^http://kinokrad\\.co/\\d', x), \n",
    "                              links_kinokrad))\n",
    "links_to_movies.sort()\n",
    "print(len(links_to_movies))"
   ]
  },
  {
   "cell_type": "code",
   "execution_count": 35,
   "metadata": {
    "collapsed": false
   },
   "outputs": [],
   "source": [
    "movies_titles = []\n",
    "for url in links_to_movies[:100]:\n",
    "    html = requests.get(url).text\n",
    "    soup = BeautifulSoup(html, 'lxml')\n",
    "    try:\n",
    "        title = soup.find('title').get_text().encode('ISO-8859-1').decode('utf-8')\n",
    "    except UnicodeEncodeError:\n",
    "        continue\n",
    "    movies_titles.append(title)"
   ]
  },
  {
   "cell_type": "code",
   "execution_count": 36,
   "metadata": {
    "collapsed": false
   },
   "outputs": [
    {
     "data": {
      "text/plain": [
       "['Огонь Кристиана Лубутена (2013) смотреть онлайн бесплатно - 15 дек 2013',\n",
       " 'Ограбление казино (2012) смотреть онлайн бесплатно',\n",
       " 'Одержимая (2014) фильм смотреть онлайн бесплатно 17.03.2014',\n",
       " 'Одиннадцатое сентября 1683 года (2012) смотреть онлайн бесплатно',\n",
       " 'Оленья тропа (2012) смотреть онлайн бесплатно',\n",
       " 'Она хочет меня (2012) смотреть онлайн бесплатно',\n",
       " 'Опера на льду (2012) смотреть онлайн бесплатно - 27 янв 2014',\n",
       " 'Операция «Арго» (2012) смотреть онлайн бесплатно - KinoKrad.net',\n",
       " 'Особо опасны (2012) смотреть онлайн бесплатно - HDrip',\n",
       " 'От винта 3D (2012) мульфильм смотреть онлайн бесплатно - 8 марта 2014',\n",
       " 'Отверженные (2013) смотреть онлайн бесплатно - 11 Дек 2013',\n",
       " 'Отвязные каникулы (2013) смотреть онлайн бесплатно, фильм Отвязные каникулы - 17 дек 2013',\n",
       " 'Фильм Отчуждение собственности (2012) смотреть онлайн - HDrip',\n",
       " 'Охота (2013) смотреть онлайн фильм бесплатно - 11 Дек 2013',\n",
       " 'Очень опасная штучка (2012) фильм смотреть онлайн бесплатно - 4 янв 2014',\n",
       " 'Очень паранормальное кино (2013) смотреть онлайн фильм бесплатно - 02 Дек 2013',\n",
       " 'Фильм Папа-досвидос (2012) смотреть онлайн бесплатно - 23 янв 2014',\n",
       " 'Папина доченька (2012) смотреть онлайн бесплатно',\n",
       " 'Паранормальное явление 4 (2012) смотреть онлайн в хорошем качестве',\n",
       " 'Паранорман, или Как приручить зомби (2012) смотреть онлайн бесплатно',\n",
       " 'Фильм Париж-Манхэттен (2012) смотреть онлайн бесплатно - 23 янв 2014',\n",
       " 'Патруль (2012) смотреть онлайн бесплатно - HDrip',\n",
       " 'Переполох на районе (2013) смотреть онлайн фильм бесплатно - 04 Дек 2013',\n",
       " 'Пес-вампир (2012) смотреть онлайн бесплатно',\n",
       " 'Фильм Петля времени (2012) смотреть онлайн бесплатно',\n",
       " 'Печать царя Соломона (2013) смотреть онлайн бесплатно мультфильм - 17 дек 2013',\n",
       " 'Пингвины Мадагаскара: Операция «Отпуск» (2012) смотреть онлайн бесплатно',\n",
       " 'Пираньи 3DD (2012) смотреть онлайн в хорошем качестве',\n",
       " 'Пираты! Банда неудачников (2012) смотреть онлайн бесплатно',\n",
       " 'Пленки из преисподней (2012) смотреть онлайн бесплатно',\n",
       " 'Пленница. Побег (2013) смотреть онлайн фильм',\n",
       " 'Плохая карма (2012) смотреть онлайн бесплатно',\n",
       " 'Плохие дети отправляются в ад (2012) смотреть онлайн бесплатно',\n",
       " 'Повелители Салема (2013) смотреть онлайн бесплатно - 15 дек 2013',\n",
       " 'Ариэтти из страны лилипутов (2011) мультфильм смотреть онлайн бесплатно - 27 фев 2014',\n",
       " 'Под давлением (2013) смотреть онлайн фильм бесплатно - 28 Ноя 2013',\n",
       " 'Подводное течение (2012) смотреть онлайн бесплатно',\n",
       " 'Фильм Пока ночь не разлучит (2012) смотреть онлайн - HDrip',\n",
       " 'Поклонница (2012) фильм смотреть онлайн бесплатно - 4 янв 2014',\n",
       " 'Покорители волн (2012) смотреть онлайн бесплатно - KinoKrad.net',\n",
       " 'Беспредел 2013 смотреть онлайн бесплатно, фильм Беспредел онлайн - 16 дек 2013',\n",
       " 'Помогите стать отцом (2012) смотреть онлайн бесплатно - KinoKrad.net',\n",
       " 'Помощники (2012) смотреть онлайн бесплатно - HDrip',\n",
       " 'Фильм «Порочная страсть» 2012 смотреть онлайн - HDrip',\n",
       " 'После любви (2013) смотреть онлайн бесплатно - 10 Дек 2013',\n",
       " 'Фильм «После Люсии» 2012 смотреть онлайн бесплатно - BDrip',\n",
       " 'После мрака свет (2012) смотреть онлайн бесплатно - KinoKrad.net',\n",
       " 'Последний звонок (2013) смотреть онлайн бесплатно - 14 дек 2013',\n",
       " 'Фильм Последняя сказка Риты (2012) смотреть онлайн - HDrip',\n",
       " 'Праздник взаперти (2012) фильм смотреть онлайн бесплатно - 6 янв 2014',\n",
       " 'Прайм-тайм (2012) смотреть онлайн бесплатно',\n",
       " 'Предчувствие бури (2012) смотреть онлайн бесплатно',\n",
       " 'Фильм Президент Линкольн: Охотник на вампиров (2012) смотреть онлайн бесплатно - 26 янв 2014',\n",
       " 'Привет, мне пора (2013) смотреть онлайн бесплатно - 10 Дек 2013',\n",
       " 'Призраки в Коннектикуте 2: Тени прошлого (2013) смотреть онлайн бесплатно - 18 дек 2013',\n",
       " 'Приключения Гекльберри Финна (2013) смотреть онлайн фильм - 14 янв 2014',\n",
       " 'Приключения Маши в Стране Чудес (2013) смотреть онлайн бесплатно - 15 дек 2013',\n",
       " 'Присутствие великолепия (2012) смотреть онлайн - HDrip',\n",
       " 'Провалы в памяти (2012) смотреть онлайн бесплатно',\n",
       " 'Продавец игрушек (2013) смотреть онлайн фильм бесплатно - 7 Дек 2013',\n",
       " 'Проект X: Дорвались (2012) смотреть онлайн в хорошем качестве',\n",
       " 'Проклятье 3D (2012) смотреть онлайн бесплатно - HDrip',\n",
       " 'Прометей (2012) смотреть онлайн в хорошем качестве',\n",
       " 'Прощай, Катя (2013) смотреть онлайн бесплатно - 8 Дек 2013',\n",
       " 'Прощай, моя королева (2012) смотреть онлайн бесплатно',\n",
       " 'Путешествие 2: Таинственный остров (2012) фильм смотреть онлайн бесплатно - 11 марта 2014',\n",
       " 'Пушистые против Зубастых 3D (2012) смотреть онлайн мультфильм',\n",
       " 'Пьета (2012) смотреть онлайн бесплатно - 16 янв 2014',\n",
       " 'Пятерка кладоискателей (2012) смотреть онлайн бесплатно',\n",
       " 'Раз! Два! Три! Умри! (2013) смотреть онлайн бесплатно - 12 дек 2013',\n",
       " 'Разговор 2013 смотреть онлайн бесплатно, фильм Разговор онлайн - 15 дек 2013',\n",
       " 'Разрешите вас прикончить? (2013) смотреть онлайн бесплатно',\n",
       " 'Разумное сомнение (2014) смотреть онлайн бесплатно в hd',\n",
       " 'Рай: Вера (2013) смотреть онлайн фильм бесплатно - 6 Дек 2013',\n",
       " 'Рай: Любовь (2012) смотреть онлайн бесплатно - HDrip',\n",
       " 'Ральф (2012) мультфильм смотреть онлайн бесплатно - 15 марта 2014',\n",
       " 'Рапунцель: Счастлива навсегда (2012) смотреть онлайн - HDrip',\n",
       " 'Рассказы (2012) смотреть онлайн бесплатно - 16 янв 2014',\n",
       " 'Фильм Реальность (2012) смотреть онлайн бесплатно - HDrip',\n",
       " 'Реальные парни (2013) смотреть онлайн бесплатно - 9 Дек 2013',\n",
       " 'Реальные страшилки (2012) смотреть онлайн бесплатно',\n",
       " 'Ренуар. Последняя любовь (2013) смотреть онлайн фильм бесплатно - 03 Дек 2013',\n",
       " 'Ржавчина и кость (2013) смотреть онлайн бесплатно - 9 Дек 2013',\n",
       " 'Ржевский против Наполеона (2012) фильм смотреть онлайн бесплатно - 8 марта 2014',\n",
       " 'Римские приключения (2012) смотреть онлайн в хорошем качестве',\n",
       " 'Риф 2013 смотреть онлайн бесплатно, мультфильм Риф 3d онлайн - 16 дек 2013',\n",
       " 'Роди Ратор (2012) смотреть онлайн бесплатно',\n",
       " 'Родительский беспредел (2013) смотреть онлайн бесплатно - 8 Дек 2013',\n",
       " 'Фильм Рок на века (2012) смотреть онлайн бесплатно - HDrip',\n",
       " 'Ромео + Джульетта (2013) смотреть онлайн бесплатно - 13 янв 2014',\n",
       " 'Русский кофе (2012) смотреть онлайн бесплатно',\n",
       " 'Фильм Сайлент Хилл 2 (2012) смотреть онлайн бесплатно - HDrip',\n",
       " 'Самозванец (2012) смотреть онлайн бесплатно - KinoKrad.net',\n",
       " 'Самый пьяный округ в мире (2012) фильм смотреть онлайн бесплатно - 5 янв 2014',\n",
       " 'Самый страшный фильм (2012) смотреть онлайн бесплатно - 15 марта 2014',\n",
       " 'Свежее мясо (2012) смотреть онлайн бесплатно',\n",
       " 'Свидание (2012) фильм смотреть онлайн в хорошем качестве 15.03.2014',\n",
       " 'Сейчас самое время (2012) смотреть онлайн бесплатно - 6 янв 2014',\n",
       " 'Секс и ничего лишнего (2013) смотреть онлайн фильм бесплатно - 04 Дек 2013',\n",
       " 'Сексуальные хроники французской семьи (2012) фильм смотреть онлайн бесплатно']"
      ]
     },
     "execution_count": 36,
     "metadata": {},
     "output_type": "execute_result"
    }
   ],
   "source": [
    "movies_titles"
   ]
  },
  {
   "cell_type": "code",
   "execution_count": 25,
   "metadata": {
    "collapsed": true
   },
   "outputs": [],
   "source": [
    "url = links_to_movies[0]\n",
    "html = requests.get(url).text\n",
    "soup = BeautifulSoup(html, 'lxml')"
   ]
  },
  {
   "cell_type": "code",
   "execution_count": 34,
   "metadata": {
    "collapsed": false
   },
   "outputs": [
    {
     "data": {
      "text/plain": [
       "'Огонь Кристиана Лубутена (2013) смотреть онлайн бесплатно - 15 дек 2013'"
      ]
     },
     "execution_count": 34,
     "metadata": {},
     "output_type": "execute_result"
    }
   ],
   "source": [
    "soup.find('title').get_text().encode('ISO-8859-1').decode('utf-8')"
   ]
  },
  {
   "cell_type": "code",
   "execution_count": null,
   "metadata": {
    "collapsed": true
   },
   "outputs": [],
   "source": []
  },
  {
   "cell_type": "code",
   "execution_count": 115,
   "metadata": {
    "collapsed": false
   },
   "outputs": [],
   "source": [
    "# movies_descriptions = []\n",
    "# for url in links_to_movies:\n",
    "#     html = requests.get(url).text\n",
    "#     soup = BeautifulSoup(html, 'lxml')\n",
    "#     try:\n",
    "#         title = description = soup.find(attrs={'name' : 'description'}).encode('windows-1252').decode('windows-1251')\n",
    "#     except UnicodeEncodeError:\n",
    "#         continue\n",
    "#     movies_descriptions.append(title)"
   ]
  },
  {
   "cell_type": "code",
   "execution_count": null,
   "metadata": {
    "collapsed": true
   },
   "outputs": [],
   "source": []
  }
 ],
 "metadata": {
  "anaconda-cloud": {},
  "kernelspec": {
   "display_name": "Python [default]",
   "language": "python",
   "name": "python3"
  },
  "language_info": {
   "codemirror_mode": {
    "name": "ipython",
    "version": 3
   },
   "file_extension": ".py",
   "mimetype": "text/x-python",
   "name": "python",
   "nbconvert_exporter": "python",
   "pygments_lexer": "ipython3",
   "version": "3.5.2"
  }
 },
 "nbformat": 4,
 "nbformat_minor": 1
}
