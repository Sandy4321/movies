{
 "cells": [
  {
   "cell_type": "code",
   "execution_count": 1,
   "metadata": {
    "collapsed": true
   },
   "outputs": [],
   "source": [
    "from bs4 import BeautifulSoup\n",
    "import requests"
   ]
  },
  {
   "cell_type": "code",
   "execution_count": 2,
   "metadata": {
    "collapsed": true
   },
   "outputs": [],
   "source": [
    "import urllib"
   ]
  },
  {
   "cell_type": "code",
   "execution_count": 3,
   "metadata": {
    "collapsed": true
   },
   "outputs": [],
   "source": [
    "import re"
   ]
  },
  {
   "cell_type": "code",
   "execution_count": 5,
   "metadata": {
    "collapsed": false,
    "scrolled": true
   },
   "outputs": [],
   "source": [
    "def get_last_page_number(domain, pagination_attrs = {'class':'pagination'}, has_next = True):\n",
    "    html = requests.get(DOMAIN).text\n",
    "    soup = BeautifulSoup(html, 'lxml')\n",
    "    \n",
    "    if has_next:\n",
    "        last_index = -2\n",
    "    else:\n",
    "        last_index = -1\n",
    "    \n",
    "    last_page_number = int(soup.find(attrs = pagination_attrs).find_all('a')[last_index].get_text())\n",
    "    \n",
    "    return last_page_number"
   ]
  },
  {
   "cell_type": "code",
   "execution_count": 6,
   "metadata": {
    "collapsed": false
   },
   "outputs": [],
   "source": [
    "def get_links(domain, last_page_number):\n",
    "    links_site = []\n",
    "    \n",
    "    for page in range(1, last_page_number):\n",
    "        url = '{}/page/{}/'.format(domain, page + 1)\n",
    "\n",
    "        html = requests.get(url).text\n",
    "        soup = BeautifulSoup(html, 'lxml')\n",
    "        current_links = [a.get('href') for a in soup.find_all('a')]\n",
    "        current_links_site = list(filter(lambda x: x.startswith(DOMAIN), current_links))\n",
    "        links_site += current_links_site\n",
    "    \n",
    "    links_site = list(set(links_site))\n",
    "    links_site.sort()\n",
    "    return links_site"
   ]
  },
  {
   "cell_type": "code",
   "execution_count": 17,
   "metadata": {
    "collapsed": true
   },
   "outputs": [],
   "source": [
    "def filter_links_to_movies(links, movie_pattern):\n",
    "    links_to_movies = list(filter(lambda x: re.search(movie_pattern, x), \n",
    "                                  links))\n",
    "    links_to_movies.sort()\n",
    "    return links_to_movies"
   ]
  },
  {
   "cell_type": "code",
   "execution_count": 23,
   "metadata": {
    "collapsed": true
   },
   "outputs": [],
   "source": [
    "def get_movie_titles(links_to_movies, encoding = 'windows-1252', decoding = 'windows-1251'):\n",
    "    movies_titles = []\n",
    "    \n",
    "    for url in links_to_movies:\n",
    "        html = requests.get(url).text\n",
    "        soup = BeautifulSoup(html, 'lxml')\n",
    "        try:\n",
    "            title = soup.find('title').get_text().encode(encoding).decode(decoding)\n",
    "        except UnicodeEncodeError:\n",
    "            continue\n",
    "        movies_titles.append(title)\n",
    "    \n",
    "    return movies_titles"
   ]
  },
  {
   "cell_type": "markdown",
   "metadata": {},
   "source": [
    "------"
   ]
  },
  {
   "cell_type": "code",
   "execution_count": 8,
   "metadata": {
    "collapsed": true
   },
   "outputs": [],
   "source": [
    "DOMAIN = 'http://bobfilm1.net'\n",
    "\n",
    "last_page_bobfilm1 = get_last_page_number(DOMAIN)\n",
    "links_bobfilm1 = get_links(DOMAIN, last_page_bobfilm1)\n",
    "links_movies_bobfilm1 = filter_links_to_movies(links_bobfilm1, '^http://bobfilm1\\.net/\\d')\n",
    "titles = get_movie_titles(links_movies_bobfilm1)"
   ]
  },
  {
   "cell_type": "code",
   "execution_count": null,
   "metadata": {
    "collapsed": true
   },
   "outputs": [],
   "source": [
    "DOMAIN = 'http://kinogo.club'\n",
    "\n",
    "last_page_kinogo = get_last_page_number(DOMAIN, {'class':'bot-navigation'})\n",
    "links_kinogo = get_links(DOMAIN, last_page_kinogo)\n",
    "links_movies_kinogo = filter_links_to_movies(links_kinogo, '^http://kinogo\\.club/\\d')\n",
    "titles_kinogo = get_movie_titles(links_movies_kinogo)"
   ]
  },
  {
   "cell_type": "code",
   "execution_count": 27,
   "metadata": {
    "collapsed": false
   },
   "outputs": [],
   "source": [
    "# len(links)\n",
    "# links = list(set(links))\n",
    "# links.sort()\n",
    "# links[:10]\n",
    "# len(links_movies)\n",
    "# len(titles)\n",
    "# titles[:10]"
   ]
  },
  {
   "cell_type": "code",
   "execution_count": null,
   "metadata": {
    "collapsed": true
   },
   "outputs": [],
   "source": []
  }
 ],
 "metadata": {
  "anaconda-cloud": {},
  "kernelspec": {
   "display_name": "Python [default]",
   "language": "python",
   "name": "python3"
  },
  "language_info": {
   "codemirror_mode": {
    "name": "ipython",
    "version": 3
   },
   "file_extension": ".py",
   "mimetype": "text/x-python",
   "name": "python",
   "nbconvert_exporter": "python",
   "pygments_lexer": "ipython3",
   "version": "3.5.2"
  }
 },
 "nbformat": 4,
 "nbformat_minor": 1
}
