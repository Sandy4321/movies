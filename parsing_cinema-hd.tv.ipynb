{
 "cells": [
  {
   "cell_type": "code",
   "execution_count": 1,
   "metadata": {
    "collapsed": true
   },
   "outputs": [],
   "source": [
    "from bs4 import BeautifulSoup\n",
    "import requests\n",
    "import re"
   ]
  },
  {
   "cell_type": "code",
   "execution_count": 2,
   "metadata": {
    "collapsed": true
   },
   "outputs": [],
   "source": [
    "DOMAIN = 'http://cinema-hd.tv'"
   ]
  },
  {
   "cell_type": "code",
   "execution_count": 3,
   "metadata": {
    "collapsed": true
   },
   "outputs": [],
   "source": [
    "response = requests.get(DOMAIN)\n",
    "html = requests.get(DOMAIN).text\n",
    "soup = BeautifulSoup(html, 'html5lib')"
   ]
  },
  {
   "cell_type": "code",
   "execution_count": 4,
   "metadata": {
    "collapsed": false
   },
   "outputs": [
    {
     "data": {
      "text/plain": [
       "934"
      ]
     },
     "execution_count": 4,
     "metadata": {},
     "output_type": "execute_result"
    }
   ],
   "source": [
    "last_page = int(soup.find('span', attrs={'class':'pagesBlockuz1'}).find_all('a')[-2].get_text())\n",
    "last_page"
   ]
  },
  {
   "cell_type": "code",
   "execution_count": 34,
   "metadata": {
    "collapsed": false
   },
   "outputs": [
    {
     "data": {
      "text/plain": [
       "49"
      ]
     },
     "execution_count": 34,
     "metadata": {},
     "output_type": "execute_result"
    }
   ],
   "source": [
    "links_cinemahd = []\n",
    "for page in range(1):\n",
    "    url = '{}/?page{}'.format(DOMAIN, page + 1)\n",
    "    html = requests.get(url).text\n",
    "    soup = BeautifulSoup(html, 'html5lib')\n",
    "    current_links = [a.get('href') for a in soup.find_all('a')]\n",
    "    links_cinemahd += list(map(lambda l: DOMAIN + l, \n",
    "                               filter(lambda l: l.startswith('/board'), current_links)))\n",
    "len(links_cinemahd)"
   ]
  },
  {
   "cell_type": "code",
   "execution_count": 20,
   "metadata": {
    "collapsed": false
   },
   "outputs": [
    {
     "data": {
      "text/plain": [
       "73"
      ]
     },
     "execution_count": 20,
     "metadata": {},
     "output_type": "execute_result"
    }
   ],
   "source": [
    "links_cinemahd = list(set(links_cinemahd))\n",
    "\n",
    "len(links_cinemahd)"
   ]
  },
  {
   "cell_type": "code",
   "execution_count": 23,
   "metadata": {
    "collapsed": false
   },
   "outputs": [
    {
     "data": {
      "text/plain": [
       "48"
      ]
     },
     "execution_count": 23,
     "metadata": {},
     "output_type": "execute_result"
    }
   ],
   "source": [
    "links_to_movies = list(filter(lambda l: re.search('^http://cinema-hd\\.tv/board/.+/.+/.+', l), links_cinemahd))\n",
    "links_to_movies.sort()\n",
    "\n",
    "len(links_to_movies)"
   ]
  },
  {
   "cell_type": "code",
   "execution_count": 24,
   "metadata": {
    "collapsed": false
   },
   "outputs": [
    {
     "data": {
      "text/plain": [
       "['Двойной побег (2015) смотреть онлайн  ',\n",
       " 'Идущий по линии (2016) смотреть онлайн  ',\n",
       " 'Ниндзя Торакаге (2014) смотреть онлайн  ']"
      ]
     },
     "execution_count": 24,
     "metadata": {},
     "output_type": "execute_result"
    }
   ],
   "source": [
    "movies_titles = []\n",
    "for url in links_to_movies[:3]:\n",
    "    html = requests.get(url).text\n",
    "    soup = BeautifulSoup(html, 'html5lib')\n",
    "    title = soup.find('h1', attrs={'class': 'full-title'}).get_text()\n",
    "    movies_titles.append(title)\n",
    "\n",
    "movies_titles"
   ]
  },
  {
   "cell_type": "code",
   "execution_count": 39,
   "metadata": {
    "collapsed": false
   },
   "outputs": [
    {
     "data": {
      "text/plain": [
       "20"
      ]
     },
     "execution_count": 39,
     "metadata": {},
     "output_type": "execute_result"
    }
   ],
   "source": [
    "links_to_categories = list(filter(lambda l: re.search('^http://cinema-hd\\.tv/board/.+/\\d+$', l), links_cinemahd))\n",
    "\n",
    "len(links_to_categories)"
   ]
  },
  {
   "cell_type": "code",
   "execution_count": 45,
   "metadata": {
    "collapsed": false
   },
   "outputs": [
    {
     "data": {
      "text/plain": [
       "['Боевики 2015-2016 смотреть онлайн',\n",
       " 'Фантастика 2015-2016 смотреть онлайн',\n",
       " 'Комедии 2015-2016 смотреть онлайн']"
      ]
     },
     "execution_count": 45,
     "metadata": {},
     "output_type": "execute_result"
    }
   ],
   "source": [
    "categories_titles = []\n",
    "for url in links_to_categories[:3]:\n",
    "    html = requests.get(url).text\n",
    "    soup = BeautifulSoup(html, 'html5lib')\n",
    "    title = soup.find('div', attrs={'class': 'catalog-title'}).find('h1').get_text()\n",
    "    categories_titles.append(title)\n",
    "    \n",
    "categories_titles"
   ]
  },
  {
   "cell_type": "code",
   "execution_count": 59,
   "metadata": {
    "collapsed": false
   },
   "outputs": [
    {
     "data": {
      "text/plain": [
       "[['\\n ',\n",
       "  '\\n ',\n",
       "  '\\n \\n ',\n",
       "  ' Каждый может подтвердить на своем опыте, что самые запоминающиеся моменты жизни возникают неожиданно. В центре внимания динамичного индийского боевика располагается молодой человек по имени Эком. Он решил устроить себе настоящий тур территории по Америки. Парень задолго до путешествия начал продумывать до деталей свой маршрут по Штатам, однако планы персонажа резко изменились, когда он повстречал привлекательную девушку. Он начинает думать, что планирование этой задуманной поездки не было случайным обстоятельством. Он отправился в тур и с этого дня с Экомом начали происходить подозрительные происшествия, как будто является неким магнитом для неприятностей. По неизвестным ему причинам, им все больше начала интересоваться полиция, однако мужчина убежден, что им не был нарушен закон. А что же произошло в действительности? Будет интересно!\\n ',\n",
       "  '\\n '],\n",
       " ['\\n ',\n",
       "  '\\n ',\n",
       "  '\\n \\n ',\n",
       "  ' После трагической гибели шефа полиции Хона, список с полицейскими, работающими под прикрытием, таинственным образом исчез. Спустя два года список этот так и не был найден, а там содержались и имена, и их пароли, и посещения. Речь в захватывающем боевике пойдет об офицере Дине. Она отказалась подрабатывать подпольно, решила перевестись в отдел борьбы с оборотом наркотиков. Через некоторое время ей пришло закодированное sms, разгадать смысл которого способен лишь специальный агент Хона. После расшифровки выясняется, что речь там идет о Блэкджеке, который вот уже много лет работает под прикрытием. Если копать глубже то выясняется, что его решили внедрить в преступную мафию Так Моу. Агент согласен сотрудничать с Диной, однако его босс находится в больших сомнениях о достоверности информации. Кто прячется под псевдонимом Блэкджек? Возможно это агент? А может бандит, который провоцирует его и разыскивает предателей? Однако имеется еще вариант: вероятно им может оказаться бандит, пытающийся стать героем и начать помогать правоохранительным органам, чтобы избежать строгого наказания. Будет интересно!\\n ',\n",
       "  '\\n '],\n",
       " ['\\n ',\n",
       "  '\\n ',\n",
       "  '\\n \\n ',\n",
       "  ' Япония, время Сэнгоку. В прошлом ниндзя Торакаге проживает спокойной и смиренной жизнью. Главный персонаж экшна довольно давно отказался от боевой и жестокой жизни, оставив все в прошлом. Пошел мужчина на этот шаг ради любимых людей: привлекательной жены и юного сынишки. Обеспечивает семью он работой возделывания земли. Однако наступает страшный день, когда преступники похищают любимого сына нашего героя, чтобы вынудить Торакаге вспомнить былые времени и вернуться в криминальную сферу. Основной целью преступников является заставить мужчину отправиться добывать дорогостоящие сокровища. Они считают, что он идеально подходит для такого задания. Будет интересно!\\n ',\n",
       "  '\\n ']]"
      ]
     },
     "execution_count": 59,
     "metadata": {},
     "output_type": "execute_result"
    }
   ],
   "source": [
    "movies_descriptions = []\n",
    "for url in links_to_movies[:3]:\n",
    "    html = requests.get(url).text\n",
    "    soup = BeautifulSoup(html, 'html5lib')\n",
    "    description = soup.find('div', attrs={'class' : 'movie-descr'}).find_all(text=True, recursive=False)\n",
    "    movies_descriptions.append(description)\n",
    "    \n",
    "movies_descriptions"
   ]
  },
  {
   "cell_type": "code",
   "execution_count": null,
   "metadata": {
    "collapsed": true
   },
   "outputs": [],
   "source": []
  },
  {
   "cell_type": "code",
   "execution_count": null,
   "metadata": {
    "collapsed": true
   },
   "outputs": [],
   "source": []
  }
 ],
 "metadata": {
  "anaconda-cloud": {},
  "kernelspec": {
   "display_name": "Python 3",
   "language": "python",
   "name": "python3"
  },
  "language_info": {
   "codemirror_mode": {
    "name": "ipython",
    "version": 3
   },
   "file_extension": ".py",
   "mimetype": "text/x-python",
   "name": "python",
   "nbconvert_exporter": "python",
   "pygments_lexer": "ipython3",
   "version": "3.5.2"
  }
 },
 "nbformat": 4,
 "nbformat_minor": 0
}
