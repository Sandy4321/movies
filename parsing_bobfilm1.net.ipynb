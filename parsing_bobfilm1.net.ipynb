{
 "cells": [
  {
   "cell_type": "code",
   "execution_count": 1,
   "metadata": {
    "collapsed": true
   },
   "outputs": [],
   "source": [
    "from bs4 import BeautifulSoup\n",
    "import requests"
   ]
  },
  {
   "cell_type": "code",
   "execution_count": 2,
   "metadata": {
    "collapsed": true
   },
   "outputs": [],
   "source": [
    "import urllib"
   ]
  },
  {
   "cell_type": "code",
   "execution_count": 3,
   "metadata": {
    "collapsed": true
   },
   "outputs": [],
   "source": [
    "import re"
   ]
  },
  {
   "cell_type": "code",
   "execution_count": 4,
   "metadata": {
    "collapsed": true
   },
   "outputs": [],
   "source": [
    "DOMAIN = 'http://bobfilm1.net'"
   ]
  },
  {
   "cell_type": "code",
   "execution_count": 5,
   "metadata": {
    "collapsed": false,
    "scrolled": true
   },
   "outputs": [
    {
     "data": {
      "text/plain": [
       "1240"
      ]
     },
     "execution_count": 5,
     "metadata": {},
     "output_type": "execute_result"
    }
   ],
   "source": [
    "html = requests.get(DOMAIN).text\n",
    "soup = BeautifulSoup(html, 'lxml')\n",
    "last_page_number = int(soup.find(attrs={'class':'pagination'}).find_all('a')[-2].get_text())\n",
    "last_page_number"
   ]
  },
  {
   "cell_type": "code",
   "execution_count": 8,
   "metadata": {
    "collapsed": false
   },
   "outputs": [],
   "source": [
    "links_site = []\n",
    "for page in range(1, last_page_number):\n",
    "    url = '{}/page/{}/'.format(DOMAIN, page + 1)\n",
    "    html = requests.get(url).text\n",
    "    soup = BeautifulSoup(html, 'lxml')\n",
    "    current_links = [a.get('href') for a in soup.find_all('a')]\n",
    "    current_links_site = list(filter(lambda x: x.startswith(DOMAIN), current_links))\n",
    "    links_site += current_links_site"
   ]
  },
  {
   "cell_type": "code",
   "execution_count": 9,
   "metadata": {
    "collapsed": false
   },
   "outputs": [
    {
     "name": "stdout",
     "output_type": "stream",
     "text": [
      "15735\n",
      "['http://bobfilm1.net/', 'http://bobfilm1.net/11970-mazhor-2-sezon.html', 'http://bobfilm1.net/15009-otryad-samoubiyc-2016.html', 'http://bobfilm1.net/15162-strazhi-galaktiki-nachalo-1-sezon.html', 'http://bobfilm1.net/16761-alisa-v-zazerkale-2016.html', 'http://bobfilm1.net/17525-cherepashki-nindzya-4-sezon.html', 'http://bobfilm1.net/17602-molodost-po-strahovke-2016.html', 'http://bobfilm1.net/17820-lednikovyy-period-stolknovenie-neizbezhno-2016.html', 'http://bobfilm1.net/18190-v-poiskah-dori-2016.html', 'http://bobfilm1.net/18322-den-nezavisimosti-vozrozhdenie-2016.html']\n"
     ]
    }
   ],
   "source": [
    "links_site = list(set(links_site))\n",
    "links_site.sort()\n",
    "print(len(links_site))\n",
    "\n",
    "print(links_site[:10])"
   ]
  },
  {
   "cell_type": "code",
   "execution_count": 10,
   "metadata": {
    "collapsed": false
   },
   "outputs": [
    {
     "name": "stdout",
     "output_type": "stream",
     "text": [
      "844\n"
     ]
    }
   ],
   "source": [
    "links_to_movies = list(filter(lambda x: re.search('^http://bobfilm1\\.net/\\d', x), \n",
    "                              links_site))\n",
    "links_to_movies.sort()\n",
    "print(len(links_to_movies))"
   ]
  },
  {
   "cell_type": "code",
   "execution_count": 14,
   "metadata": {
    "collapsed": false
   },
   "outputs": [
    {
     "ename": "UnicodeEncodeError",
     "evalue": "'charmap' codec can't encode character '\\x96' in position 890: character maps to <undefined>",
     "output_type": "error",
     "traceback": [
      "\u001b[0;31m---------------------------------------------------------------------------\u001b[0m",
      "\u001b[0;31mUnicodeEncodeError\u001b[0m                        Traceback (most recent call last)",
      "\u001b[0;32m<ipython-input-14-246afaf6637f>\u001b[0m in \u001b[0;36m<module>\u001b[0;34m()\u001b[0m\n\u001b[0;32m----> 1\u001b[0;31m \u001b[0mrequests\u001b[0m\u001b[0;34m.\u001b[0m\u001b[0mget\u001b[0m\u001b[0;34m(\u001b[0m\u001b[0mlinks_to_movies\u001b[0m\u001b[0;34m[\u001b[0m\u001b[0;36m0\u001b[0m\u001b[0;34m]\u001b[0m\u001b[0;34m)\u001b[0m\u001b[0;34m.\u001b[0m\u001b[0mtext\u001b[0m\u001b[0;34m.\u001b[0m\u001b[0mencode\u001b[0m\u001b[0;34m(\u001b[0m\u001b[0;34m'windows-1252'\u001b[0m\u001b[0;34m)\u001b[0m\u001b[0;34m.\u001b[0m\u001b[0mdecode\u001b[0m\u001b[0;34m(\u001b[0m\u001b[0;34m'windows-1251'\u001b[0m\u001b[0;34m)\u001b[0m\u001b[0;34m\u001b[0m\u001b[0m\n\u001b[0m",
      "\u001b[0;32m/home/katya/anaconda3/lib/python3.5/encodings/cp1252.py\u001b[0m in \u001b[0;36mencode\u001b[0;34m(self, input, errors)\u001b[0m\n\u001b[1;32m     10\u001b[0m \u001b[0;34m\u001b[0m\u001b[0m\n\u001b[1;32m     11\u001b[0m     \u001b[0;32mdef\u001b[0m \u001b[0mencode\u001b[0m\u001b[0;34m(\u001b[0m\u001b[0mself\u001b[0m\u001b[0;34m,\u001b[0m\u001b[0minput\u001b[0m\u001b[0;34m,\u001b[0m\u001b[0merrors\u001b[0m\u001b[0;34m=\u001b[0m\u001b[0;34m'strict'\u001b[0m\u001b[0;34m)\u001b[0m\u001b[0;34m:\u001b[0m\u001b[0;34m\u001b[0m\u001b[0m\n\u001b[0;32m---> 12\u001b[0;31m         \u001b[0;32mreturn\u001b[0m \u001b[0mcodecs\u001b[0m\u001b[0;34m.\u001b[0m\u001b[0mcharmap_encode\u001b[0m\u001b[0;34m(\u001b[0m\u001b[0minput\u001b[0m\u001b[0;34m,\u001b[0m\u001b[0merrors\u001b[0m\u001b[0;34m,\u001b[0m\u001b[0mencoding_table\u001b[0m\u001b[0;34m)\u001b[0m\u001b[0;34m\u001b[0m\u001b[0m\n\u001b[0m\u001b[1;32m     13\u001b[0m \u001b[0;34m\u001b[0m\u001b[0m\n\u001b[1;32m     14\u001b[0m     \u001b[0;32mdef\u001b[0m \u001b[0mdecode\u001b[0m\u001b[0;34m(\u001b[0m\u001b[0mself\u001b[0m\u001b[0;34m,\u001b[0m\u001b[0minput\u001b[0m\u001b[0;34m,\u001b[0m\u001b[0merrors\u001b[0m\u001b[0;34m=\u001b[0m\u001b[0;34m'strict'\u001b[0m\u001b[0;34m)\u001b[0m\u001b[0;34m:\u001b[0m\u001b[0;34m\u001b[0m\u001b[0m\n",
      "\u001b[0;31mUnicodeEncodeError\u001b[0m: 'charmap' codec can't encode character '\\x96' in position 890: character maps to <undefined>"
     ]
    }
   ],
   "source": [
    "requests.get(links_to_movies[0]).text.encode('windows-1252').decode('windows-1251')"
   ]
  },
  {
   "cell_type": "code",
   "execution_count": 17,
   "metadata": {
    "collapsed": false
   },
   "outputs": [],
   "source": [
    "movies_titles = []\n",
    "for url in links_to_movies[:100]:\n",
    "    html = requests.get(url).text\n",
    "    soup = BeautifulSoup(html, 'lxml')\n",
    "    try:\n",
    "        title = soup.find('title').get_text().encode('windows-1252').decode('windows-1251')\n",
    "    except UnicodeEncodeError:\n",
    "        continue\n",
    "    movies_titles.append(title)"
   ]
  },
  {
   "cell_type": "code",
   "execution_count": 18,
   "metadata": {
    "collapsed": false
   },
   "outputs": [
    {
     "data": {
      "text/plain": [
       "['Мажор 2 сезон, 8 серия смотреть онлайн бесплатно в хорошем качестве hd',\n",
       " 'Отряд самоубийц 2016 смотреть онлайн бесплатно в хорошем качестве',\n",
       " 'Стражи Галактики Начало 1 сезон, 25 серия смотреть онлайн бесплатно в хорошем hd качестве',\n",
       " 'Алиса в Зазеркалье  2016  смотреть онлайн бесплатно в хорошем качестве',\n",
       " 'Черепашки-ниндзя 4 сезон, 16 серия смотреть онлайн бесплатно в хорошем hd качестве',\n",
       " 'Молодость по страховке 2016 смотреть онлайн бесплатно в хорошем качестве hd',\n",
       " 'Ледниковый период Столкновение неизбежно 2016 смотреть онлайн бесплатно в хорошем качестве hd',\n",
       " 'В поисках Дори 2016 смотреть онлайн бесплатно в хорошем качестве hd',\n",
       " 'День независимости Возрождение 2016 смотреть онлайн бесплатно в хорошем качестве hd',\n",
       " 'Черная любовь 1 сезон, 43 серия смотреть онлайн бесплатно в хорошем качестве hd',\n",
       " 'Симпсоны 27 сезон, все серии смотреть онлайн бесплатно в хорошем качестве hd',\n",
       " 'Коммуна 2016 смотреть онлайн бесплатно в хорошем качестве hd',\n",
       " '503 Service Temporarily Unavailable',\n",
       " 'До встречи с тобой 2016 смотреть онлайн бесплатно в хорошем качестве hd',\n",
       " '503 Service Temporarily Unavailable',\n",
       " '503 Service Temporarily Unavailable',\n",
       " '503 Service Temporarily Unavailable',\n",
       " '503 Service Temporarily Unavailable',\n",
       " '503 Service Temporarily Unavailable',\n",
       " '503 Service Temporarily Unavailable',\n",
       " '503 Service Temporarily Unavailable',\n",
       " '503 Service Temporarily Unavailable',\n",
       " '503 Service Temporarily Unavailable',\n",
       " '503 Service Temporarily Unavailable',\n",
       " '503 Service Temporarily Unavailable',\n",
       " '503 Service Temporarily Unavailable',\n",
       " '503 Service Temporarily Unavailable',\n",
       " '503 Service Temporarily Unavailable',\n",
       " '503 Service Temporarily Unavailable',\n",
       " '503 Service Temporarily Unavailable',\n",
       " '503 Service Temporarily Unavailable',\n",
       " '503 Service Temporarily Unavailable',\n",
       " '503 Service Temporarily Unavailable',\n",
       " '503 Service Temporarily Unavailable',\n",
       " '503 Service Temporarily Unavailable',\n",
       " '503 Service Temporarily Unavailable',\n",
       " '503 Service Temporarily Unavailable',\n",
       " '503 Service Temporarily Unavailable',\n",
       " '503 Service Temporarily Unavailable',\n",
       " '503 Service Temporarily Unavailable',\n",
       " '503 Service Temporarily Unavailable',\n",
       " '503 Service Temporarily Unavailable',\n",
       " '503 Service Temporarily Unavailable',\n",
       " '503 Service Temporarily Unavailable',\n",
       " '503 Service Temporarily Unavailable',\n",
       " '503 Service Temporarily Unavailable',\n",
       " '503 Service Temporarily Unavailable',\n",
       " '503 Service Temporarily Unavailable',\n",
       " '503 Service Temporarily Unavailable',\n",
       " '503 Service Temporarily Unavailable',\n",
       " '503 Service Temporarily Unavailable',\n",
       " '503 Service Temporarily Unavailable',\n",
       " '503 Service Temporarily Unavailable',\n",
       " '503 Service Temporarily Unavailable',\n",
       " '503 Service Temporarily Unavailable',\n",
       " '503 Service Temporarily Unavailable',\n",
       " '503 Service Temporarily Unavailable',\n",
       " '503 Service Temporarily Unavailable',\n",
       " '503 Service Temporarily Unavailable',\n",
       " '503 Service Temporarily Unavailable',\n",
       " '503 Service Temporarily Unavailable',\n",
       " '503 Service Temporarily Unavailable',\n",
       " '503 Service Temporarily Unavailable',\n",
       " '503 Service Temporarily Unavailable',\n",
       " '503 Service Temporarily Unavailable',\n",
       " '503 Service Temporarily Unavailable',\n",
       " '503 Service Temporarily Unavailable',\n",
       " '503 Service Temporarily Unavailable',\n",
       " '503 Service Temporarily Unavailable',\n",
       " '503 Service Temporarily Unavailable',\n",
       " '503 Service Temporarily Unavailable',\n",
       " '503 Service Temporarily Unavailable',\n",
       " '503 Service Temporarily Unavailable',\n",
       " '503 Service Temporarily Unavailable',\n",
       " '503 Service Temporarily Unavailable',\n",
       " '503 Service Temporarily Unavailable',\n",
       " '503 Service Temporarily Unavailable',\n",
       " '503 Service Temporarily Unavailable',\n",
       " '503 Service Temporarily Unavailable',\n",
       " '503 Service Temporarily Unavailable',\n",
       " '503 Service Temporarily Unavailable',\n",
       " '503 Service Temporarily Unavailable',\n",
       " '503 Service Temporarily Unavailable',\n",
       " '503 Service Temporarily Unavailable',\n",
       " '503 Service Temporarily Unavailable',\n",
       " '503 Service Temporarily Unavailable',\n",
       " '503 Service Temporarily Unavailable',\n",
       " '503 Service Temporarily Unavailable',\n",
       " '503 Service Temporarily Unavailable',\n",
       " '503 Service Temporarily Unavailable',\n",
       " '503 Service Temporarily Unavailable',\n",
       " '503 Service Temporarily Unavailable',\n",
       " '503 Service Temporarily Unavailable',\n",
       " '503 Service Temporarily Unavailable',\n",
       " '503 Service Temporarily Unavailable',\n",
       " '503 Service Temporarily Unavailable',\n",
       " '503 Service Temporarily Unavailable',\n",
       " '503 Service Temporarily Unavailable',\n",
       " '503 Service Temporarily Unavailable',\n",
       " '503 Service Temporarily Unavailable']"
      ]
     },
     "execution_count": 18,
     "metadata": {},
     "output_type": "execute_result"
    }
   ],
   "source": [
    "movies_titles"
   ]
  },
  {
   "cell_type": "code",
   "execution_count": 25,
   "metadata": {
    "collapsed": true
   },
   "outputs": [],
   "source": [
    "url = links_to_movies[0]\n",
    "html = requests.get(url).text\n",
    "soup = BeautifulSoup(html, 'lxml')"
   ]
  },
  {
   "cell_type": "code",
   "execution_count": 34,
   "metadata": {
    "collapsed": false
   },
   "outputs": [
    {
     "data": {
      "text/plain": [
       "'Огонь Кристиана Лубутена (2013) смотреть онлайн бесплатно - 15 дек 2013'"
      ]
     },
     "execution_count": 34,
     "metadata": {},
     "output_type": "execute_result"
    }
   ],
   "source": [
    "soup.find('title').get_text().encode('ISO-8859-1').decode('utf-8')"
   ]
  },
  {
   "cell_type": "code",
   "execution_count": null,
   "metadata": {
    "collapsed": true
   },
   "outputs": [],
   "source": []
  },
  {
   "cell_type": "code",
   "execution_count": 115,
   "metadata": {
    "collapsed": false
   },
   "outputs": [],
   "source": [
    "# movies_descriptions = []\n",
    "# for url in links_to_movies:\n",
    "#     html = requests.get(url).text\n",
    "#     soup = BeautifulSoup(html, 'lxml')\n",
    "#     try:\n",
    "#         title = description = soup.find(attrs={'name' : 'description'}).encode('windows-1252').decode('windows-1251')\n",
    "#     except UnicodeEncodeError:\n",
    "#         continue\n",
    "#     movies_descriptions.append(title)"
   ]
  },
  {
   "cell_type": "code",
   "execution_count": null,
   "metadata": {
    "collapsed": true
   },
   "outputs": [],
   "source": []
  }
 ],
 "metadata": {
  "anaconda-cloud": {},
  "kernelspec": {
   "display_name": "Python [default]",
   "language": "python",
   "name": "python3"
  },
  "language_info": {
   "codemirror_mode": {
    "name": "ipython",
    "version": 3
   },
   "file_extension": ".py",
   "mimetype": "text/x-python",
   "name": "python",
   "nbconvert_exporter": "python",
   "pygments_lexer": "ipython3",
   "version": "3.5.2"
  }
 },
 "nbformat": 4,
 "nbformat_minor": 1
}
