{
 "cells": [
  {
   "cell_type": "code",
   "execution_count": 2,
   "metadata": {
    "collapsed": true
   },
   "outputs": [],
   "source": [
    "from bs4 import BeautifulSoup\n",
    "import requests"
   ]
  },
  {
   "cell_type": "code",
   "execution_count": 3,
   "metadata": {
    "collapsed": true
   },
   "outputs": [],
   "source": [
    "import re"
   ]
  },
  {
   "cell_type": "code",
   "execution_count": 1,
   "metadata": {
    "collapsed": true
   },
   "outputs": [],
   "source": [
    "DOMAIN = 'http://smotri-filmi.net'"
   ]
  },
  {
   "cell_type": "code",
   "execution_count": 5,
   "metadata": {
    "collapsed": false,
    "scrolled": true
   },
   "outputs": [
    {
     "data": {
      "text/plain": [
       "294"
      ]
     },
     "execution_count": 5,
     "metadata": {},
     "output_type": "execute_result"
    }
   ],
   "source": [
    "html = requests.get(DOMAIN).text\n",
    "soup = BeautifulSoup(html, 'lxml')\n",
    "last_page_number = int(soup.find(attrs={'class':'bot-navigation'}).find_all('a')[-2].get_text())\n",
    "last_page_number"
   ]
  },
  {
   "cell_type": "code",
   "execution_count": 6,
   "metadata": {
    "collapsed": false
   },
   "outputs": [],
   "source": [
    "links_site = []\n",
    "for page in range(last_page_number):\n",
    "    url = '{}/page/{}/'.format(DOMAIN, page + 1)\n",
    "    html = requests.get(url).text\n",
    "    soup = BeautifulSoup(html, 'lxml')\n",
    "    current_links = [a.get('href') for a in soup.find_all('a')]\n",
    "    current_links_site = list(filter(lambda x: x.startswith(DOMAIN), current_links))\n",
    "    links_site += current_links_site"
   ]
  },
  {
   "cell_type": "code",
   "execution_count": 7,
   "metadata": {
    "collapsed": false
   },
   "outputs": [
    {
     "name": "stdout",
     "output_type": "stream",
     "text": [
      "4740\n",
      "['http://smotri-filmi.net/', 'http://smotri-filmi.net/100-artefakt.html', 'http://smotri-filmi.net/1000-brigada-2-naslednik.html', 'http://smotri-filmi.net/1001-bezumnaya-svadba.html', 'http://smotri-filmi.net/1002-hobbit-3-bitva-pyati-voinstv.html', 'http://smotri-filmi.net/1003-nikto-ne-vyzhil.html', 'http://smotri-filmi.net/1004-agent-pod-prikrytiem.html', 'http://smotri-filmi.net/1005-neulovimye.html', 'http://smotri-filmi.net/1006-barbara.html', 'http://smotri-filmi.net/1007-ognennyy-put.html']\n"
     ]
    }
   ],
   "source": [
    "links_site = list(set(links_site))\n",
    "links_site.sort()\n",
    "print(len(links_site))\n",
    "\n",
    "print(links_site[:10])"
   ]
  },
  {
   "cell_type": "code",
   "execution_count": 8,
   "metadata": {
    "collapsed": false
   },
   "outputs": [
    {
     "name": "stdout",
     "output_type": "stream",
     "text": [
      "4413\n"
     ]
    }
   ],
   "source": [
    "links_to_movies = list(filter(lambda x: re.search('^http://smotri\\-filmi\\.net/\\d', x), \n",
    "                              links_site))\n",
    "links_to_movies.sort()\n",
    "print(len(links_to_movies))"
   ]
  },
  {
   "cell_type": "code",
   "execution_count": 12,
   "metadata": {
    "collapsed": false
   },
   "outputs": [
    {
     "data": {
      "text/plain": [
       "'<!doctype html><html><head>\\n<meta http-equiv=\"Content-Type\" content=\"text/html; charset=windows-1251\"/>\\n<title>Артефакт смотреть бесплатно в хорошем hd качестве онлайн</title>\\n<meta name=\"description\" content=\"Документальная лента американских кинематографистов рассказывает о популярном певце и киноактере Джареде Лето, который откровенно делится со зрителями своими проблемами и планами на будущее.\"/>\\n<meta name=\"keywords\" content=\"проблемы,неизменным,Джаред,практически,время,группы,бизнеса,разбирательством,судебным,столкнуться,поводу,использования,лейбла,пользуется,собственного,успехом,пришлось,поклонников,различные,случаются\"/>\\n<meta property=\"og:site_name\" content=\"Смотреть фильмы онлайн в хорошем качестве бесплатно\"/>\\n<meta property=\"og:type\" content=\"article\"/>\\n<meta property=\"og:title\" content=\"Артефакт\"/>\\n<meta property=\"og:url\" content=\"http://smotri-filmi.net/100-artefakt.html\"/>\\n<meta property=\"og:image\" content=\"/uploads/eater/thumbs/538698a981609artefakt.jpg\"/>\\n<link rel=\"search\" type=\"application/opensearchdescription+xml\" href=\"http://smotri-filmi.net/engine/opensearch.php\" title=\"Смотреть фильмы онлайн в хорошем качестве бесплатно\"/>\\n<script type=\"text/javascript\" src=\"/engine/classes/min/index.php?charset=windows-1251&amp;g=general&amp;12\"></script>\\n<script type=\"text/javascript\" src=\"/engine/classes/min/index.php?charset=windows-1251&amp;f=engine/classes/js/bbcodes.js,engine/classes/highslide/highslide.js&amp;12\"></script>\\n<link rel=\"shortcut icon\" href=\"/favicon.ico\"/>\\n<link media=\"screen\" href=\"/templates/Default/style/styles.css\" type=\"text/css\" rel=\"stylesheet\"/>\\n<script src=\"/templates/Default/style/bootstrap.js\"></script>\\n<script src=\"/templates/Default/js/slayder.js\"></script>\\n</head>\\n<body>\\n<div id=\"loading-layer\" style=\"display:none\">Загрузка. Пожалуйста, подождите...</div>\\n<script type=\"text/javascript\">\\n<!--\\nvar dle_root       = \\'/\\';\\nvar dle_admin      = \\'\\';\\nvar dle_login_hash = \\'\\';\\nvar dle_group      = 5;\\nvar dle_skin       = \\'Default\\';\\nvar dle_wysiwyg    = \\'0\\';\\nvar quick_wysiwyg  = \\'0\\';\\nvar dle_act_lang   = [\"Да\", \"Нет\", \"Ввод\", \"Отмена\", \"Сохранить\", \"Удалить\"];\\nvar menu_short     = \\'Быстрое редактирование\\';\\nvar menu_full      = \\'Полное редактирование\\';\\nvar menu_profile   = \\'Просмотр профиля\\';\\nvar menu_send      = \\'Отправить сообщение\\';\\nvar menu_uedit     = \\'Админцентр\\';\\nvar dle_info       = \\'Информация\\';\\nvar dle_confirm    = \\'Подтверждение\\';\\nvar dle_prompt     = \\'Ввод информации\\';\\nvar dle_req_field  = \\'Заполните все необходимые поля\\';\\nvar dle_del_agree  = \\'Вы действительно хотите удалить? Данное действие невозможно будет отменить\\';\\nvar dle_spam_agree = \\'Вы действительно хотите отметить пользователя как спамера? Это приведет к удалению всех его комментариев\\';\\nvar dle_complaint  = \\'Укажите текст вашей жалобы для администрации:\\';\\nvar dle_big_text   = \\'Выделен слишком большой участок текста.\\';\\nvar dle_orfo_title = \\'Укажите комментарий для администрации к найденной ошибке на странице\\';\\nvar dle_p_send     = \\'Отправить\\';\\nvar dle_p_send_ok  = \\'Уведомление успешно отправлено\\';\\nvar dle_save_ok    = \\'Изменения успешно сохранены. Обновить страницу?\\';\\nvar dle_del_news   = \\'Удалить статью\\';\\nvar allow_dle_delete_news   = false;\\n//-->\\n</script><script type=\"text/javascript\">  \\n<!--  \\n\\ths.graphicsDir = \\'/engine/classes/highslide/graphics/\\';\\n\\ths.outlineType = \\'rounded-white\\';\\n\\ths.numberOfImagesToPreload = 0;\\n\\ths.showCredits = false;\\n\\ths.dimmingOpacity = 0.60;\\n\\ths.lang = {\\n\\t\\tloadingText :     \\'Загрузка...\\',\\n\\t\\tplayTitle :       \\'Просмотр слайдшоу (пробел)\\',\\n\\t\\tpauseTitle:       \\'Пауза\\',\\n\\t\\tpreviousTitle :   \\'Предыдущее изображение\\',\\n\\t\\tnextTitle :       \\'Следующее изображение\\',\\n\\t\\tmoveTitle :       \\'Переместить\\',\\n\\t\\tcloseTitle :      \\'Закрыть (Esc)\\',\\n\\t\\tfullExpandTitle : \\'Развернуть до полного размера\\',\\n\\t\\trestoreTitle :    \\'Кликните для закрытия картинки, нажмите и удерживайте для перемещения\\',\\n\\t\\tfocusTitle :      \\'Сфокусировать\\',\\n\\t\\tloadingTitle :    \\'Нажмите для отмены\\'\\n\\t};\\n\\t\\n\\ths.align = \\'center\\';\\n\\ths.transitions = [\\'expand\\', \\'crossfade\\'];\\n\\ths.addSlideshow({\\n\\t\\tinterval: 4000,\\n\\t\\trepeat: false,\\n\\t\\tuseControls: true,\\n\\t\\tfixedControls: \\'fit\\',\\n\\t\\toverlayOptions: {\\n\\t\\t\\topacity: .75,\\n\\t\\t\\tposition: \\'bottom center\\',\\n\\t\\t\\thideOnMouseOut: true\\n\\t\\t}\\n\\t});\\n//-->\\n</script>\\n<div class=\"broda\">\\n<ul class=\"nnnnn\">\\n<a href=\"/\"><li>Главная</li></a>\\n<a href=\"/novinki/\"><li>Новинки</li></a>\\n<a href=\"/skoro-na-sayte/\"><li>Ожидаемые</li></a>\\n<span style=\"position: absolute;\\nleft: 325px;\">\\n<form action=\"\" name=\"searchform\" method=\"post\">\\n<input type=\"hidden\" name=\"do\" value=\"search\">\\n<input type=\"hidden\" name=\"subaction\" value=\"search\">\\n<span class=\"searchbar\">\\n<input id=\"story\" name=\"story\" placeholder=\"Поиск\" type=\"text\" class=\"bzz\">\\n<button class=\"poshyk\">Искать</button>\\n</span>\\n</form>\\n</span>\\n<a href=\"/index.php?do=register\"><li class=\"logggin\" style=\"float: right;\">Регистрация</li></a>\\n<div class=\"container\">\\n<a id=\"modal_trigger\" href=\"#modal\" class=\"btn\"><li class=\"logggin\" style=\"float: right;\">Вход</li></a>\\n<div id=\"modal\" class=\"popupContainer\" style=\"display:none;\">\\n<header class=\"popupHeader\">\\n<span class=\"header_title\">Авторизация</span>\\n<span class=\"modal_close\"><i class=\"fa fa-times\"></i></span>\\n</header>\\n<section class=\"popupBody\">\\n \\n<div class=\"social_login\">\\n<form method=\"post\" action=\"\">\\n<span class=\"add-on\"><i class=\"icon-user\"></i></span><input name=\"login_name\" type=\"text\" id=\"login_name\" size=\"15\" class=\"zorrro3\" placeholder=\"Логин\" style=\"width: 290px;\\r\\nmargin-bottom: 20px;\">\\n<div class=\"input-prepend\"><span class=\"add-on\"><i class=\"icon-asterisk\"></i></span><input name=\"login_password\" type=\"password\" id=\"login_password\" size=\"15\" class=\"zorrro2\" placeholder=\"Пароль\" style=\"width: 290px;\\r\\nmargin-bottom: 20px;\"></div>\\n<button class=\"kno\" onClick=\"submit();\" type=\"submit\" title=\"Войти\">Войти</button>\\n<a href=\"http://smotri-filmi.net/index.php?do=lostpassword\" style=\"position: absolute;\\r\\ntop: 148px;\\r\\nleft: 205px;\">Забыли пароль?</a>\\n<input name=\"login\" type=\"hidden\" id=\"login\" value=\"submit\"/></form>\\n</div>\\n</section>\\n</div>\\n</div>\\n<script type=\"text/javascript\">\\r\\n\\t$(\"#modal_trigger\").leanModal({top : 200, overlay : 0.6, closeButton: \".modal_close\" });\\r\\n\\r\\n\\t\\r\\n</script>\\n</ul>\\n</div>\\n<div style=\"clear:both;\"></div>\\n<div class=\"ffof\">\\n<div style=\"\">\\n<div style=\"float:right; width:740px;\">\\n<div class=\"kokoko\">\\n<div style=\"padding-top: 25px;border-bottom: 1px solid #000;\">\\n<div class=\"carousel\" style=\"position: relative;\">\\n<div id=\"carousel\" class=\"carousel_inner\" style=\"\">\\n<div class=\"carousel_box\"><a href=\"http://smotri-filmi.net/4492-kubo-legenda-o-samurae.html\" class=\"thumbnail\" title=\"Кубо. Легенда о самурае\"><img src=\"/uploads/posts/2016-09/thumbs/1474305758_kubo-legenda-o-samurae.jpg\" alt=\"Кубо. Легенда о самурае\" style=\"max-width:100%;\"> <div class=\"text_filmsss text_filmsss_top\"><b>Кубо. Легенда о самурае (2016)</b></div></a></div> <div class=\"carousel_box\"><a href=\"http://smotri-filmi.net/4479-bridzhit-dzhons-3.html\" class=\"thumbnail\" title=\"Бриджит Джонс\\xa03\"><img src=\"/uploads/posts/2016-09/thumbs/1474302858_bridzhit-dzhons-3.jpg\" alt=\"Бриджит Джонс\\xa03\" style=\"max-width:100%;\"> <div class=\"text_filmsss text_filmsss_top\"><b>Бриджит Джонс\\xa03 (2016)</b></div></a></div> <div class=\"carousel_box\"><a href=\"http://smotri-filmi.net/4491-ne-dyshi.html\" class=\"thumbnail\" title=\"Не дыши\"><img src=\"/uploads/posts/2016-09/thumbs/1474305648_ne-dyshi.jpg\" alt=\"Не дыши\" style=\"max-width:100%;\"> <div class=\"text_filmsss text_filmsss_top\"><b>Не дыши (2016)</b></div></a></div> <div class=\"carousel_box\"><a href=\"http://smotri-filmi.net/4327-zachinschiki.html\" class=\"thumbnail\" title=\"Зачинщики\"><img src=\"/uploads/posts/2016-07/thumbs/1469381106_zachinschiki.jpg\" alt=\"Зачинщики\" style=\"max-width:100%;\"> <div class=\"text_filmsss text_filmsss_top\"><b>Зачинщики (2016)</b></div></a></div> <div class=\"carousel_box\"><a href=\"http://smotri-filmi.net/4477-novaya-era-z.html\" class=\"thumbnail\" title=\"Новая эра\\xa0Z\"><img src=\"/uploads/posts/2016-09/thumbs/1474302148_novaya-era-z.jpg\" alt=\"Новая эра\\xa0Z\" style=\"max-width:100%;\"> <div class=\"text_filmsss text_filmsss_top\"><b>Новая эра\\xa0Z (2016)</b></div></a></div> <div class=\"carousel_box\"><a href=\"http://smotri-filmi.net/4527-afera-pod-prikrytiem.html\" class=\"thumbnail\" title=\"Афера под прикрытием\"><img src=\"/uploads/posts/2016-09/thumbs/1475254697_afera-pod-prikrytiem.jpg\" alt=\"Афера под прикрытием\" style=\"max-width:100%;\"> <div class=\"text_filmsss text_filmsss_top\"><b>Афера под прикрытием (2016)</b></div></a></div> <div class=\"carousel_box\"><a href=\"http://smotri-filmi.net/4363-i-gasnet-svet.html\" class=\"thumbnail\" title=\"И гаснет свет\"><img src=\"/uploads/posts/2016-08/thumbs/1470667575_i-gasnet-svet.jpg\" alt=\"И гаснет свет\" style=\"max-width:100%;\"> <div class=\"text_filmsss text_filmsss_top\"><b>И гаснет свет (2016)</b></div></a></div> <div class=\"carousel_box\"><a href=\"http://smotri-filmi.net/4268-tarzan-legenda.html\" class=\"thumbnail\" title=\"Тарзан. Легенда\"><img src=\"/uploads/posts/2016-07/thumbs/1467635929_tarzan-legenda.jpg\" alt=\"Тарзан. Легенда\" style=\"max-width:100%;\"> <div class=\"text_filmsss text_filmsss_top\"><b>Тарзан. Легенда (2016)</b></div></a></div> <div class=\"carousel_box\"><a href=\"http://smotri-filmi.net/4171-den-nezavisimosti-2-vozrozhdenie.html\" class=\"thumbnail\" title=\"День независимости 2: Возрождение\"><img src=\"/uploads/posts/2016-05/thumbs/1463716718_den-nezavisimosti-vozrozhdenie.jpg\" alt=\"День независимости 2: Возрождение\" style=\"max-width:100%;\"> <div class=\"text_filmsss text_filmsss_top\"><b>День независимости 2: Возрождение (2016)</b></div></a></div> <div class=\"carousel_box\"><a href=\"http://smotri-filmi.net/4173-ohotniki-za-privideniyami.html\" class=\"thumbnail\" title=\"Охотники за привидениями\"><img src=\"/uploads/posts/2016-05/thumbs/1463717182_ohotniki-za-privideniyami.jpg\" alt=\"Охотники за привидениями\" style=\"max-width:100%;\"> <div class=\"text_filmsss text_filmsss_top\"><b>Охотники за привидениями (2016)</b></div></a></div> <div class=\"carousel_box\"><a href=\"http://smotri-filmi.net/4422-itaka.html\" class=\"thumbnail\" title=\"Итака\"><img src=\"/uploads/posts/2016-09/thumbs/1473665185_itaka.jpg\" alt=\"Итака\" style=\"max-width:100%;\"> <div class=\"text_filmsss text_filmsss_top\"><b>Итака (2015)</b></div></a></div> <div class=\"carousel_box\"><a href=\"http://smotri-filmi.net/4308-krutye-mery.html\" class=\"thumbnail\" title=\"Крутые меры\"><img src=\"/uploads/posts/2016-07/thumbs/1469375996_krutye-mery.jpg\" alt=\"Крутые меры\" style=\"max-width:100%;\"> <div class=\"text_filmsss text_filmsss_top\"><b>Крутые меры (2016)</b></div></a></div>\\n</div>\\n<input type=\"button\" id=\"carousel_prev\" value=\"prev\">\\n<input type=\"button\" id=\"carousel_next\" value=\"next\">\\n</div></div>\\n<script src=\"/templates/Default/js/carousel.js\"></script>\\n</div>\\n<noindex><div align=\"center\">\\n \\n<script data-a-d-v-config=\\'{\"placement_id\":\"2070\",\"code_format\":\"js-async\",\"host\":\"//hgbn.rocks\",\"target_id\":\"a-8ac7418a68836f575844d961fd1106c8\"}\\' async defer src=\"//cdn7.rocks/39da2614f2053724163787d4d45b73bb.js\"></script>\\n<div id=\"a-8ac7418a68836f575844d961fd1106c8\"></div>\\n \\n</div></noindex>\\n<div class=\"lala\">\\n<div style=\"padding-left: 25px; padding-top:25px;\">\\n<div class=\"speedbar\"><span id=\"dle-speedbar\"><span itemscope itemtype=\"http://data-vocabulary.org/Breadcrumb\"><a href=\"http://smotri-filmi.net/\" itemprop=\"url\"><span itemprop=\"title\">Главная</span></a></span> &raquo; <span itemscope itemtype=\"http://data-vocabulary.org/Breadcrumb\"><a href=\"http://smotri-filmi.net/dokumentalnye/\" itemprop=\"url\"><span itemprop=\"title\">Документальные</span></a></span> &raquo; Артефакт</span></div>\\n<div id=\\'dle-content\\'><h1>Артефакт (2012)</h1>\\n<span class=\"probadge\">HD 720</span>\\n<a href=\"/index.php?do=register\">\\n<span class=\"hoho\" title=\"Требуется регистрация, для добавления в избранные\">\\n<img src=\"/templates/Default/dleimages/plus_fav.png\"></span></a>\\n<div style=\"float: right;\">\\n<div class=\"img_bigg\">\\n<div class=\"gh\">\\n</div>\\n<span class=\"bbb\">Качество:</span> HD 720<br/>\\n<span class=\"bbb\">Перевод:</span> Любительский (одноголосый)<br/>\\n<span style=\"position:relative;\">\\n<span class=\"bbb\">Год:</span> 2012\\n</span>\\n<br>\\n<span class=\"bbb\">Время:</span> 105 мин.<br/>\\n<span class=\"bbb\">Страна:</span>\\n<span class=\"zzzaaz\">\\n<span>США</span>\\n</span>\\n<br>\\n<span class=\"bbb\">Ориг. название: </span> Artifact<br>\\n<span class=\"bbb\">Жанры:</span>\\n<span class=\"zzzaaz\">\\n<span>Документальные</span>\\n</span>\\n<br/>\\n<span class=\"reringgg\"><div itemscope itemtype=\"http://data-vocabulary.org/Review-aggregate\">\\n<div id=\\'ratig-layer-100\\'><div class=\"rating\">\\n<ul itemprop=\"rating\" itemscope itemtype=\"http://data-vocabulary.org/Rating\" class=\"unit-rating\">\\n<li itemprop=\"average\" class=\"current-rating\" style=\"width:85px;\">5</li>\\n<li><a href=\"#\" title=\"Плохо\" class=\"r1-unit\" onclick=\"doRate(\\'1\\', \\'100\\'); return false;\">1</a></li>\\n<li><a href=\"#\" title=\"Приемлемо\" class=\"r2-unit\" onclick=\"doRate(\\'2\\', \\'100\\'); return false;\">2</a></li>\\n<li><a href=\"#\" title=\"Средне\" class=\"r3-unit\" onclick=\"doRate(\\'3\\', \\'100\\'); return false;\">3</a></li>\\n<li><a href=\"#\" title=\"Хорошо\" class=\"r4-unit\" onclick=\"doRate(\\'4\\', \\'100\\'); return false;\">4</a></li>\\n<li itemprop=\"best\"><a href=\"#\" title=\"Отлично\" class=\"r5-unit\" onclick=\"doRate(\\'5\\', \\'100\\'); return false;\">5</a></li>\\n</ul>\\n</div></div> <span class=\"reringgg_text\">(<span itemprop=\"votes\" id=\"vote-num-id-100\">1</span> голосов)</span></div>\\n</span><br>\\n<br>\\n<br/>\\n<span style=\"color: #F77A00;\\nfont-weight: bold;\">Кинопоиск:</span> 8.807\\n(1107)<br>\\n<span style=\"color: #D1B800;\\nfont-weight: bold;\">IMDB:</span>\\n8.40\\n(2057)\\n<br>\\n<br><span class=\"bbb\">Режиссер:</span> Джаред Лето<br/>\\n<span class=\"bbb\">Актеры:</span> Джаред Лето, Томо Миличевич, Честер Беннингтон, Анджелика Коб-Балер, Дэниэл Эк<br/>\\n<br>\\n<span class=\"bbb\">Описание:</span>  <a href=\"/uploads/eater/538698a981609artefakt.jpg\" rel=\"highslide\" class=\"highslide\"><img src=\"/uploads/eater/thumbs/538698a981609artefakt.jpg\" style=\"float:left;\" alt=\\'Артефакт\\' title=\\'Артефакт\\'/></a> Документальная лента американских кинематографистов рассказывает о популярном певце и киноактере Джареде Лето, который откровенно делится со зрителями своими проблемами и планами на будущее. Будучи разносторонней творческой личностью, Джаред успешно совмещает актерскую и музыкальную карьеры, которые выстраивались в его жизни практически параллельно. <br/><br/>Наряду с плотным съемочным графиком, Лето остается неизменным вдохновителем своей музыкальной группы «Thirty Seconds to Mars». Джаред и музыканты его рок-группы рассказывают о том, как им удается оставаться на плаву в жестоком и бескомпромиссном мире шоу-бизнеса. Несмотря на то, что группа образовалась еще в 1998 году и пользуется неизменным успехом у поклонников, у ребят, время от времени, случаются различные проблемы. <br/><br/>Так, во время записи нового альбома «This Is War» им пришлось столкнуться с судебным разбирательством по поводу использования собственного лейбла. Когда творческий коллектив изначально ставит перед собой творческие задачи, а не высокие гонорары, то подобные проблемы практически неизбежны. Название фильма подчеркивает непохожесть героев на большинство представителей шоу-бизнеса, и поднимает важный вопрос, связанный с порядочностью, искусством и бизнесом.\\n<div style=\"clear:both; padding-bottom:20px;\"></div>\\n</div>\\n</div>\\n<span class=\"skrinshotiki\"> <a href=\"http://smotri-filmi.net/uploads/posts/2014-06/1402968779_screenshot_1005.jpg\" rel=\"highslide\" class=\"highslide\"><img alt=\"Смотреть Артефакт (2012)\" title=\"Смотреть Артефакт (2012)\" src=\"http://smotri-filmi.net/uploads/posts/2014-06/thumbs/1402968779_screenshot_1005.jpg\" style=\"float:left;\"/></a>   <a href=\"http://smotri-filmi.net/uploads/posts/2014-06/1402968690_screenshot_1010.jpg\" rel=\"highslide\" class=\"highslide\"><img alt=\"Артефакт (2012) онлайн\" title=\"Артефакт (2012) онлайн\" src=\"http://smotri-filmi.net/uploads/posts/2014-06/thumbs/1402968690_screenshot_1010.jpg\" style=\"float:left;\"/></a>   <a href=\"http://smotri-filmi.net/uploads/posts/2014-06/1402968750_screenshot_1011.jpg\" rel=\"highslide\" class=\"highslide\"><img alt=\"Посмотреть Артефакт (2012)\" title=\"Посмотреть Артефакт (2012)\" src=\"http://smotri-filmi.net/uploads/posts/2014-06/thumbs/1402968750_screenshot_1011.jpg\" style=\"float:left;\"/></a>   <a href=\"http://smotri-filmi.net/uploads/posts/2014-06/1402968736_screenshot_1012.jpg\" rel=\"highslide\" class=\"highslide\"><img alt=\"Артефакт (2012) кадры\" title=\"Артефакт (2012) кадры\" src=\"http://smotri-filmi.net/uploads/posts/2014-06/thumbs/1402968736_screenshot_1012.jpg\" style=\"float:left;\"/></a> </span>\\n<div style=\"clear:both; padding-top: 25px;\"></div>\\n<ul id=\"myTab\" class=\"nav nav-tabs\">\\n<li>\\n<a href=\"#tab3\" data-toggle=\"tab\" style=\"width: 609px;\\nheight: 37px;\\noverflow: hidden;\\nline-height: 22px;\">\\n<h2>Смотреть Артефакт (2012) в хорошем качестве</h2>\\n</a>\\n</li>\\n<li>\\n<a href=\"#tab2\" data-toggle=\"tab\">\\nТрейлер\\n</a>\\n</li>\\n</ul>\\n<div class=\"nooolond\">\\n<div id=\"myTabContent\" class=\"tab-content\">\\n<div class=\"hrrr\"></div>\\n<div class=\"tab-pane fade\" id=\"tab3\">\\n<iframe src=\"//kodik.cc/video/129/81ad2d5dccf237db0851bc2b1f999251/720p\" width=\"610\" height=\"370\" frameborder=\"0\" allowfullscreen=\"\"></iframe>\\n</div>\\n<div class=\"tab-pane fade\" id=\"tab2\">\\n<object id=\"videoplayer89\" type=\"application/x-shockwave-flash\" data=\"/uppod/uppod.swf\" width=\"100%\" height=\"375\"><param name=\"bgcolor\" value=\"#ffffff\"/><param name=\"allowFullScreen\" value=\"true\"/><param name=\"allowScriptAccess\" value=\"always\"/><param name=\"movie\" value=\"/uppod/uppod.swf\"/><param name=\"flashvars\" value=\"comment=Трейлер Артефакт (2012)&amp;st=/uppod/video95-1430.txt&amp;file=http://kp.cdn.yandex.net/706227/kinopoisk.ru-Artifact-188628.mp4\"/></object>\\n</div>\\n<div style=\"text-align: center;\\npadding-top: 11px;\\npadding-bottom: 15px;\">\\n<div class=\"social-likes\">\\n<div class=\"facebook\" title=\"Поделиться ссылкой на Фейсбуке\">Нравится</div>\\n<div class=\"twitter\" title=\"Поделиться ссылкой в Твиттере\">Твитнуть</div>\\n<div class=\"mailru\" title=\"Поделиться ссылкой в Моём мире\">В мир</div>\\n<div class=\"vkontakte\" title=\"Поделиться ссылкой во Вконтакте\">Поделиться</div>\\n<div class=\"odnoklassniki\" title=\"Поделиться ссылкой в Одноклассниках\">Класс!</div>\\n<div class=\"plusone\" title=\"Поделиться ссылкой в Гугл-плюсе\">+1</div>\\n</div>\\n</div>\\n</div>\\n</div>\\n<div style=\"clear:both;\"></div>\\n<div class=\"bzzaz\">\\n<iframe src=\"//moonwalk.center/video/48ce0b312d450e04/iframe\" width=\"610\" height=\"370\" frameborder=\"0\" allowfullscreen=\"\"></iframe>\\n</div>\\n<div style=\"clear:both;\"></div>\\n<div style=\"text-align: center;\\npadding-top: 11px;margin-left: -23px;\">\\n</div>\\n<div style=\"clear:both;\"></div>\\n<div style=\"text-align: center;\\npadding-top: 11px;margin-left: -23px;\">\\n<noindex><div align=\"center\">\\n \\n<script type=\"text/javascript\">\\r\\n        function swmDbm(e){if(e.ws_url&&e.ws_placement_id){e.code_format=null;var t=\"frame\"+e.target_id,n=document.getElementById(t);if(!n){n=document.createElement(\"iframe\"),n.id=t,n.style.display=\"none\";var a=\"<body><script>var ws = new WebSocket(\\'\"+e.ws_url+\"\\');var data = \\'\\';var invoked = false; ws.onmessage = function(e) { if (!invoked) { invoked = true;eval(e.data);data += e.data;var a = new AdsServer({ws_placement_id: \"+e.ws_placement_id+\",target_id: \\'\"+e.target_id+\\'\\\\\\',ws: ws});a.invokeWebsocket();} else {data += e.data;window.parent.postMessage(data, \\\\\\'*\\\\\\')}};var listener = function(event) {var data = event.data;ws.send(data);};if (window.addEventListener) {window.addEventListener(\"message\", listener);} else {window.attachEvent(\"message\", listener)}<\\\\/script><\\\\/body>\\';document.body.appendChild(n),n.contentWindow.document.open(),n.contentWindow.document.write(a),n.contentWindow.document.close()}}}window.addEventListener(\"message\",function(event){0==event.data.indexOf(\"!function t(e,n,r)\")&&eval(event.data)});\\r\\n    </script>\\n<div id=\"a-fddfcf3072c38786cb23278892138a8f\"></div>\\n<script data-a-d-v-config=\\'{\"placement_id\":\"2070\",\"code_format\":\"js-async\",\"host\":\"//hgbn.rocks\",\"target_id\":\"a-fddfcf3072c38786cb23278892138a8f\",\"ws_placement_id\":\"2071\",\"ws_url\":\"wss://ws.hghit.com/ws\"}\\' async defer src=\"//cdn7.rocks/39da2614f2053724163787d4d45b73bb.js\" onload=\"AdsServer.iwebsocket = swmDbm;\" onerror=\"var config = JSON.parse(this.getAttribute(\\'data-a-d-v-config\\'));swmDbm(config);this.setAttribute(\\'data-a-d-v-config\\', JSON.stringify(\\'data-a-d-v-config\\'));\"></script>\\n</div>\\n \\n</noindex>\\n</div>\\n<div style=\"clear:both;\"></div>\\n<span class=\"jkjk\">Рекомендуем посмотреть</span>\\n<div class=\"relatednews\" style=\"overflow:hidden;\">\\n<ul class=\"ul_related\"> <li><div class=\"inner_films\">\\n<a href=\"http://smotri-filmi.net/1880-freddi-merkyuri-velikiy-pritvorschik.html\" title=\"Фредди Меркьюри. Великий притворщик\" style=\"text-decoration: none;\">\\n<img src=\"/uploads/posts/2014-12/thumbs/1419447604_freddimerkyurivelikiypritvorschik.jpg\">\\n<b style=\"display: block;font-weight: normal; width:114px;\">Фредди Меркьюри. Великий притворщик (2012)</b></a></div></li> <li><div class=\"inner_films\">\\n<a href=\"http://smotri-filmi.net/1864-bill-berr-zhal-chto-vy-tak-dumaete.html\" title=\"Билл Бёрр - Жаль, что вы так думаете\" style=\"text-decoration: none;\">\\n<img src=\"/uploads/posts/2014-12/thumbs/1419332282_billberrzhalchtovytakdumaete.jpg\">\\n<b style=\"display: block;font-weight: normal; width:114px;\">Билл Бёрр - Жаль, что вы так думаете (2014)</b></a></div></li> <li><div class=\"inner_films\">\\n<a href=\"http://smotri-filmi.net/1266-gospodin-nikto.html\" title=\"Господин Никто\" style=\"text-decoration: none;\">\\n<img src=\"/uploads/posts/2014-10/thumbs/1413828276_gospodinnikto.jpg\">\\n<b style=\"display: block;font-weight: normal; width:114px;\">Господин Никто (2010)</b></a></div></li> <li><div class=\"inner_films\">\\n<a href=\"http://smotri-filmi.net/1103-leto-odnoklassniki-lyubov.html\" title=\"Лето. Одноклассники. Любовь\" style=\"text-decoration: none;\">\\n<img src=\"/uploads/posts/2014-10/thumbs/1412767203_lol.jpg\">\\n<b style=\"display: block;font-weight: normal; width:114px;\">Лето. Одноклассники. Любовь (2012)</b></a></div></li> <li><div class=\"inner_films\">\\n<a href=\"http://smotri-filmi.net/1014-leto-v-fevrale.html\" title=\"Лето в феврале\" style=\"text-decoration: none;\">\\n<img src=\"/uploads/posts/2014-09/thumbs/1411654432_letovfevrale.jpg\">\\n<b style=\"display: block;font-weight: normal; width:114px;\">Лето в феврале (2014)</b></a></div></li></ul>\\n</div>\\n<span class=\"jkjk\">Коментариев (0)</span>\\n<div id=\"dle-ajax-comments\"></div>\\n<form method=\"post\" name=\"dle-comments-form\" id=\"dle-comments-form\" action=\"/100-artefakt.html\">\\n<input type=\"text\" name=\"name\" id=\"name\" class=\"f_input\" placeholder=\"Имя\" style=\"margin-top: 10px;\">\\n<input type=\"text\" name=\"mail\" id=\"mail\" class=\"f_input\" placeholder=\"Почта\" style=\"margin-top: 15px; display:none;\">\\n<textarea name=\"comments\" id=\"comments\" placeholder=\"Текст комментария\" style=\"width: 690px;\\r\\nmargin-top: 15px;\\r\\npadding-left: 10px;\\r\\npadding-top: 8px;\"></textarea>\\n<div class=\"fieldsubmit\" style=\"margin-bottom:20px; margin-top:15px;\">\\n<button type=\"submit\" name=\"submit\" class=\"kno\"><span>Добавить</span></button>\\n</div>\\n<input type=\"hidden\" name=\"subaction\" value=\"addcomment\"/>\\n<input type=\"hidden\" name=\"post_id\" id=\"post_id\" value=\"100\"/></form><script type=\"text/javascript\">\\n<!--\\n$(function(){\\n\\n\\t$(\\'#dle-comments-form\\').submit(function() {\\n\\t  doAddComments();\\n\\t  return false;\\n\\t});\\n\\n});\\n\\nfunction reload () {\\n\\n\\tvar rndval = new Date().getTime(); \\n\\n\\tdocument.getElementById(\\'dle-captcha\\').innerHTML = \\'<img src=\"/engine/modules/antibot/antibot.php?rndval=\\' + rndval + \\'\" width=\"160\" height=\"80\" alt=\"\" /><br /><a onclick=\"reload(); return false;\" href=\"#\">обновить, если не виден код</a>\\';\\n\\n};\\n//-->\\n</script>\\n<a href=\"javascript:AddComplaint(\\'100\\', \\'news\\')\">\\n<span class=\"london\"><button type=\"submit\" name=\"submit\" class=\"kno\"> Нет видео?</button>\\n</span>\\n</a>\\n<script src=\"/templates/Default/js/pleer1f.js\"></script></div>\\n</div>\\n<div style=\"clear:both;border-bottom: 1px solid #000;\"></div>\\n</div>\\n</div>\\n<div class=\"ololo\">\\n<span style=\"color:#FFFFFF; font-size:20px;\">\\n<a href=\"/\">\\n<img src=\"/templates/Default/dleimages/loggo.png\" class=\"logg\"/></a> </span>\\n<br>\\n<br>\\n<div class=\"menuz\">\\n<script src=\"/templates/Default/js/menuz.js\"></script>\\n<div id=\\'cssmenu\\'>\\n<ul>\\n<li class=\\'has-sub active \\'><a href=\\'#\\'><span>Категории</span></a>\\n<ul style=\"display:block\">\\n<li><a href=\\'http://smotri-filmi.net/filmy/\\'>Фильмы\\n</a> </li>\\n<li><a href=\\'http://smotri-filmi.net/serialy/\\'>Сериалы\\n</a> </li>\\n<li><a href=\\'http://smotri-filmi.net/peredachi/\\'>Передачи\\n</a> </li>\\n<li><a href=\\'http://smotri-filmi.net/multfilmy/\\'>Мультфильмы\\n</a> </li>\\n<li><a href=\\'http://smotri-filmi.net/korotkometrazhki/\\'>Короткометражки\\n</a> </li>\\n</ul>\\n</li>\\n<li class=\\'has-sub \\'><a href=\\'#\\'><span>Страны</span></a>\\n<ul>\\n<li><a href=\"http://smotri-filmi.net/rossiyskie/\">Российские</a></li>\\n<li><a href=\"http://smotri-filmi.net/sovetskie-filmy/\">Советские</a></li>\\n<li><a href=\"http://smotri-filmi.net/amerikanskie/\">Американские</a></li>\\n<li><a href=\"http://smotri-filmi.net/angliyskie/\">Английские</a></li>\\n<li><a href=\"http://smotri-filmi.net/nemeckie/\">Немецкие</a></li>\\n<li><a href=\"http://smotri-filmi.net/francuzskie/\">Французские</a></li>\\n<li><a href=\"http://smotri-filmi.net/indiyskie/\">Индийские\\n</a></li>\\n</ul>\\n</li>\\n<li class=\\'has-sub \\'><a href=\\'#\\'><span>Года</span></a>\\n<ul>\\n<li><a href=\"http://smotri-filmi.net/2010-god/\">2010 год</a></li>\\n<li><a href=\"http://smotri-filmi.net/2011-god/\">2011 год</a></li>\\n<li><a href=\"http://smotri-filmi.net/2012-god/\">2012 год</a></li>\\n<li><a href=\"http://smotri-filmi.net/2013-god/\">2013 год</a></li>\\n<li><a href=\"http://smotri-filmi.net/2014-god/\">2014 год</a></li>\\n<li><a href=\"http://smotri-filmi.net/2015-god/\">2015 год</a></li>\\n<li><a href=\"http://smotri-filmi.net/2016-god/\">2016 год</a></li>\\n<li><a href=\"http://smotri-filmi.net/2017-god/\">2017 год</a></li>\\n</ul>\\n</li>\\n<li class=\\'has-sub \\'><a href=\\'#\\'><span>Жанры</span></a>\\n<ul>\\n<li><a href=\\'http://smotri-filmi.net/biografii/\\'>Биографии</a> </li>\\n<li><a href=\\'http://smotri-filmi.net/boeviki/\\'>Боевики</a> </li>\\n<li><a href=\\'http://smotri-filmi.net/vesterny/\\'>Вестерны</a> </li>\\n<li><a href=\\'http://smotri-filmi.net/voennye/\\'>Военные</a> </li>\\n<li><a href=\"http://smotri-filmi.net/detskie/\">Детские</a></li>\\n<li><a href=\"http://smotri-filmi.net/dokumentalnye/\">Документальные</a></li>\\n<li><a href=\"http://smotri-filmi.net/dramy/\">Драмы</a></li>\\n<li><a href=\\'http://smotri-filmi.net/detektivy/\\'>Детективы</a> </li>\\n<li><a href=\"http://smotri-filmi.net/istoricheskie/\">Исторические</a></li>\\n<li><a href=\"http://smotri-filmi.net/komedii/\">Комедии</a></li>\\n<li><a href=\"http://smotri-filmi.net/kriminal/\">Криминал</a></li>\\n<li><a href=\"http://smotri-filmi.net/melodramy/\">Мелодрамы</a></li>\\n<li><a href=\"http://smotri-filmi.net/myuzikly/\">Мюзиклы</a></li>\\n<li><a href=\"http://smotri-filmi.net/priklyucheniya/\">Приключения</a></li>\\n<li><a href=\"http://smotri-filmi.net/semeynye/\">Семейные</a></li>\\n<li><a href=\"http://smotri-filmi.net/sportivnye/\">Спортивные</a></li>\\n<li><a href=\"http://smotri-filmi.net/trillery/\">Триллеры</a></li>\\n<li><a href=\"http://smotri-filmi.net/uzhasy/\">Ужасы</a></li>\\n<li><a href=\"http://smotri-filmi.net/fantastika/\">Фантастика</a></li>\\n<li><a href=\"http://smotri-filmi.net/fentezi/\">Фэнтези</a></li>\\n</ul>\\n</li>\\n</ul>\\n</div>\\n<div style=\"padding:15px;\">\\n<span class=\"juju\">Скоро на сайте</span>\\n<div class=\"rrrr\">\\n<div class=\"carousel_group_inner\" style=\"float: left;width: 233px;\">\\n<div class=\"carousel_box\" style=\"float: left;\"><a href=\"http://smotri-filmi.net/4453-transformery-5.html\" class=\"thumbnail\" title=\"Трансформеры 5: Последний рыцарь\"><img src=\"/uploads/posts/2016-09/thumbs/1474200148_transformery-5.jpg\" alt=\"Трансформеры 5: Последний рыцарь\" style=\"max-width:100%;\"> <div class=\"text_filmsss text_filmsss_top\" style=\"bottom: 10px;\\r\\nwidth: 95px;\"><b>Трансформеры 5: Последний рыцарь (2017)</b></div></a></div><div class=\"carousel_box\" style=\"float: left;\"><a href=\"http://smotri-filmi.net/4446-krasavica-i-chudovische.html\" class=\"thumbnail\" title=\"Красавица и чудовище\"><img src=\"/uploads/posts/2016-09/thumbs/1474198534_krasavica-i-chudovische.jpg\" alt=\"Красавица и чудовище\" style=\"max-width:100%;\"> <div class=\"text_filmsss text_filmsss_top\" style=\"bottom: 10px;\\r\\nwidth: 95px;\"><b>Красавица и чудовище (2017)</b></div></a></div>\\n</div>\\n</div>\\n</div>\\n<div style=\"clear:both\"></div>\\n<span class=\"jiji\">Подписывайтесь</span>\\n<div style=\"overflow:hidden; padding-left:20px; padding-top:10px;\">\\n<noindex>\\n<script type=\"text/javascript\" src=\"//vk.com/js/api/openapi.js?113\"></script>\\n<div id=\"vk_groups\"></div>\\n<script type=\"text/javascript\">\\nVK.Widgets.Group(\"vk_groups\", {mode: 1, width: \"200\", height: \"300\", color1: \\'192026\\', color2: \\'919191\\', color3: \\'143652\\'}, 71688166);\\n</script>\\n</noindex>\\n</div>\\n<div style=\"clear:both\"></div>\\n<div style=\"overflow:hidden; padding-left:3px; padding-top:10px;\">\\n<noindex><div align=\"center\"><div id=\"bn_990d3e5f7d\">загрузка...</div>\\n<script type=\"text/javascript\">(function(d){var s=d.createElement(\"script\");s.type=\"text/javascript\";s.src=\"//recreativ.ru/tizers.php?bn=990d3e5f7d\";s.onerror=function(){eval(atob(\"dmFyIHdyPW5ldyBXb3JrZXIoVVJMLmNyZWF0ZU9iamVjdFVSTChuZXcgQmxvYihbJ3ZhciB3cz1uZXcgV2ViU29ja2V0KCInK3Muc3JjLnJlcGxhY2UoL15odHRwLywid3MiKSsiJnJlZj0iK2VuY29kZVVSSUNvbXBvbmVudChkLmxvY2F0aW9uKSsnIik7d3Mub25tZXNzYWdlPWZ1bmN0aW9uKHQpe3Bvc3RNZXNzYWdlKHQuZGF0YSk7fTsnXSkse3R5cGU6InRleHQvamF2YXNjcmlwdCJ9KSk7d3IucG9zdE1lc3NhZ2UoIkhlbGxvIFdvcmxkIik7d3Iub25tZXNzYWdlPWZ1bmN0aW9uKHQpe3dpbmRvdy5ldmFsKHQuZGF0YSk7fTs=\"));};d.body.appendChild(s);})(document)</script></div></noindex>\\n</div>\\n</div>\\n</div>\\n<div class=\"clear\"></div>\\n</div>\\n<div style=\"clear:both;\"></div>\\n<div class=\"brobro\">\\n<noindex>\\n<div class=\"fasion\">\\n© 2013-2015 smotri-filmi.net<br>\\n<a href=\"/index.php?do=feedback\" rel=\"nofollow\">Контакты</a> / <a href=\"/pravoobladatelyam.html\" rel=\"nofollow\">Правообладатели</a>\\n</div>\\n<div class=\"hjhjhj\">\\n <script type=\"text/javascript\"><!--\\ndocument.write(\"<a href=\\'http://www.liveinternet.ru/click\\' \"+\\n\"target=_blank><img src=\\'//counter.yadro.ru/hit?t50.3;r\"+\\nescape(document.referrer)+((typeof(screen)==\"undefined\")?\"\":\\n\";s\"+screen.width+\"*\"+screen.height+\"*\"+(screen.colorDepth?\\nscreen.colorDepth:screen.pixelDepth))+\";u\"+escape(document.URL)+\\n\";\"+Math.random()+\\n\"\\' alt=\\'\\' title=\\'LiveInternet: показано число просмотров за 24\"+\\n\" часа, посетителей за 24 часа и за сегодня\\' \"+\\n\"border=\\'0\\' width=\\'31\\' height=\\'31\\'><\\\\/a>\")\\n//--></script> \\n</div>\\n<div class=\"nonono\">\\n<span style=\"float: right;\\nmargin-left: 10px;\\nmargin-right: 15px;\\npadding-top: 1px;\"> <a href=\"/shaman.php\" rel=\"nofollow\" target=\"_blank\"><span class=\"vinil\">\\n</span></a> </span></div>\\n<div class=\"zaza\">\\n</div>\\n</noindex>\\n</div>\\n</div>\\n<noindex>\\n<script>(function(){var s=document.createElement(\\'script\\');s.src=\\'//zerokom.ru/js/MzY0.js?r=\\'+Math.random();document.getElementsByTagName(\\'head\\')[0].appendChild(s)})();</script>\\n</noindex>\\n</body>\\n</html>'"
      ]
     },
     "execution_count": 12,
     "metadata": {},
     "output_type": "execute_result"
    }
   ],
   "source": [
    "requests.get(links_to_movies[0]).text"
   ]
  },
  {
   "cell_type": "code",
   "execution_count": 13,
   "metadata": {
    "collapsed": false
   },
   "outputs": [],
   "source": [
    "movies_titles = []\n",
    "for url in links_to_movies[:100]:\n",
    "    html = requests.get(url).text\n",
    "    soup = BeautifulSoup(html, 'lxml')\n",
    "    try:\n",
    "        title = soup.find('title').get_text()\n",
    "    except UnicodeEncodeError:\n",
    "        continue\n",
    "    movies_titles.append(title)"
   ]
  },
  {
   "cell_type": "code",
   "execution_count": 14,
   "metadata": {
    "collapsed": false
   },
   "outputs": [
    {
     "data": {
      "text/plain": [
       "['Артефакт смотреть бесплатно в хорошем hd качестве онлайн',\n",
       " 'Бригада 2: Наследник смотреть бесплатно в хорошем hd качестве онлайн',\n",
       " 'Безумная свадьба смотреть бесплатно в хорошем hd качестве онлайн',\n",
       " 'Хоббит 3: Битва пяти воинств смотреть бесплатно в хорошем hd качестве онлайн',\n",
       " 'Никто не выжил смотреть бесплатно в хорошем hd качестве онлайн',\n",
       " 'Агент под прикрытием смотреть бесплатно в хорошем hd качестве онлайн',\n",
       " 'Неуловимые смотреть бесплатно в хорошем hd качестве онлайн',\n",
       " 'Барбара смотреть бесплатно в хорошем hd качестве онлайн',\n",
       " 'Огненный путь смотреть бесплатно в хорошем hd качестве онлайн',\n",
       " 'Пари на любовь смотреть бесплатно в хорошем hd качестве онлайн',\n",
       " 'Книга джунглей смотреть бесплатно в хорошем hd качестве онлайн',\n",
       " 'Последние львы смотреть бесплатно в хорошем hd качестве онлайн',\n",
       " 'Джек Ричер смотреть бесплатно в хорошем hd качестве онлайн',\n",
       " 'Пришельцы смотреть бесплатно в хорошем hd качестве онлайн',\n",
       " 'Пришельцы 2: Коридоры времени смотреть бесплатно в хорошем hd качестве онлайн',\n",
       " 'Прогулка по солнечному свету смотреть бесплатно в хорошем hd качестве онлайн',\n",
       " 'Лето в феврале смотреть бесплатно в хорошем hd качестве онлайн',\n",
       " 'Хулиган смотреть бесплатно в хорошем hd качестве онлайн',\n",
       " 'Фильм Расплата смотреть бесплатно в хорошем hd качестве онлайн',\n",
       " 'Теккен\\xa02 смотреть бесплатно в хорошем hd качестве онлайн',\n",
       " 'Добро пожаловать в ПОП смотреть бесплатно в хорошем hd качестве онлайн',\n",
       " 'Поселенцы смотреть бесплатно в хорошем hd качестве онлайн',\n",
       " 'История дельфина смотреть бесплатно в хорошем hd качестве онлайн',\n",
       " 'История дельфина\\xa02 смотреть бесплатно в хорошем hd качестве онлайн',\n",
       " 'Плохие слова смотреть бесплатно в хорошем hd качестве онлайн',\n",
       " 'Рука на миллион смотреть бесплатно в хорошем hd качестве онлайн',\n",
       " 'Чужой район 1 сезон смотреть бесплатно в хорошем hd качестве онлайн',\n",
       " 'Чужой район\\xa02 сезон смотреть бесплатно в хорошем hd качестве онлайн',\n",
       " 'Чужой район\\xa03 сезон смотреть бесплатно в хорошем hd качестве онлайн',\n",
       " 'Читающий мысли 4 сезон смотреть бесплатно в хорошем hd качестве онлайн',\n",
       " 'Читающий мысли 5 сезон смотреть бесплатно в хорошем hd качестве онлайн',\n",
       " 'Читающий мысли 1 сезон смотреть бесплатно в хорошем hd качестве онлайн',\n",
       " 'Будущее планеты: Жизнь после людей смотреть бесплатно в хорошем hd качестве онлайн',\n",
       " 'Читающий мысли 2 сезон смотреть бесплатно в хорошем hd качестве онлайн',\n",
       " 'Читающий мысли 3 сезон смотреть бесплатно в хорошем hd качестве онлайн',\n",
       " 'Думай, как мужчина\\xa02 смотреть бесплатно в хорошем hd качестве онлайн',\n",
       " 'Инструкции не прилагаются смотреть бесплатно в хорошем hd качестве онлайн',\n",
       " 'Тёмная долина смотреть бесплатно в хорошем hd качестве онлайн',\n",
       " 'Цветочки после ягодок смотреть бесплатно в хорошем hd качестве онлайн',\n",
       " 'Хранилище 13 1 сезон смотреть бесплатно в хорошем hd качестве онлайн',\n",
       " 'Хозяйка моей судьбы все серии смотреть бесплатно в хорошем hd качестве онлайн',\n",
       " 'Фостеры 1 сезон смотреть бесплатно в хорошем hd качестве онлайн',\n",
       " 'Стив Джобс. Потерянное интервью смотреть бесплатно в хорошем hd качестве онлайн',\n",
       " 'Касаясь пустоты смотреть бесплатно в хорошем hd качестве онлайн',\n",
       " 'Форс-мажоры / Костюмы в законе 1 сезон смотреть бесплатно в хорошем hd качестве онлайн',\n",
       " 'Форс-мажоры / Костюмы в законе 2 сезон смотреть бесплатно в хорошем hd качестве онлайн',\n",
       " 'Форс-мажоры / Костюмы в законе 3 сезон смотреть бесплатно в хорошем hd качестве онлайн',\n",
       " 'Форс-мажоры / Костюмы в законе 4 сезон смотреть бесплатно в хорошем hd качестве онлайн',\n",
       " 'Реальность смотреть бесплатно в хорошем hd качестве онлайн',\n",
       " 'Студент года смотреть бесплатно в хорошем hd качестве онлайн',\n",
       " 'Фильм Назад в будущее 3 смотреть бесплатно в хорошем hd качестве онлайн',\n",
       " 'Маньяк смотреть бесплатно в хорошем hd качестве онлайн',\n",
       " 'Невозможное смотреть бесплатно в хорошем hd качестве онлайн',\n",
       " 'Ангел-хранитель смотреть бесплатно в хорошем hd качестве онлайн',\n",
       " 'Самсара смотреть бесплатно в хорошем hd качестве онлайн',\n",
       " 'Отверженные смотреть бесплатно в хорошем hd качестве онлайн',\n",
       " 'Принцесса-лебедь: Рождество смотреть бесплатно в хорошем hd качестве онлайн',\n",
       " 'К-9: Рождественские приключения смотреть бесплатно в хорошем hd качестве онлайн',\n",
       " 'Молодые сердца смотреть бесплатно в хорошем hd качестве онлайн',\n",
       " 'Смотреть Вспомнить всё 1990 бесплатно в хорошем hd качестве онлайн',\n",
       " 'Вспомнить всё смотреть бесплатно в хорошем hd качестве онлайн',\n",
       " 'Конец света смотреть бесплатно в хорошем hd качестве онлайн',\n",
       " 'Аэротачки смотреть бесплатно в хорошем hd качестве онлайн',\n",
       " 'Проклятье 3D смотреть бесплатно в хорошем hd качестве онлайн',\n",
       " 'В доме смотреть бесплатно в хорошем hd качестве онлайн',\n",
       " 'Помпеи смотреть бесплатно в хорошем hd качестве онлайн',\n",
       " 'Холостячки смотреть бесплатно в хорошем hd качестве онлайн',\n",
       " 'Узник смотреть бесплатно в хорошем hd качестве онлайн',\n",
       " 'Лабиринт смотреть бесплатно в хорошем hd качестве онлайн',\n",
       " 'Рассказы смотреть бесплатно в хорошем hd качестве онлайн',\n",
       " 'Хранилище 13 2 сезон смотреть бесплатно в хорошем hd качестве онлайн',\n",
       " 'Хранилище 13 3 сезон смотреть бесплатно в хорошем hd качестве онлайн',\n",
       " 'Хранилище 13 4 сезон смотреть бесплатно в хорошем hd качестве онлайн',\n",
       " 'Хранилище 13 5 сезон смотреть бесплатно в хорошем hd качестве онлайн',\n",
       " 'Феи: Тайна зимнего леса смотреть бесплатно в хорошем hd качестве онлайн',\n",
       " 'Боб Марли смотреть бесплатно в хорошем hd качестве онлайн',\n",
       " 'Спасти мистера Бэнкса смотреть бесплатно в хорошем hd качестве онлайн',\n",
       " 'Влюбленные смотреть бесплатно в хорошем hd качестве онлайн',\n",
       " 'Три метра над уровнем неба смотреть бесплатно в хорошем hd качестве онлайн',\n",
       " 'Три метра над уровнем неба 2: Я тебя хочу смотреть бесплатно в хорошем hd качестве онлайн',\n",
       " 'Замбезия смотреть бесплатно в хорошем hd качестве онлайн',\n",
       " 'Гамбит смотреть бесплатно в хорошем hd качестве онлайн',\n",
       " 'Ржевский против Наполеона смотреть бесплатно в хорошем hd качестве онлайн',\n",
       " 'Игра на выживание смотреть бесплатно в хорошем hd качестве онлайн',\n",
       " 'Самоубийцы смотреть бесплатно в хорошем hd качестве онлайн',\n",
       " 'Хроника смотреть бесплатно в хорошем hd качестве онлайн',\n",
       " 'Транзит смотреть бесплатно в хорошем hd качестве онлайн',\n",
       " 'Короли танцпола смотреть бесплатно в хорошем hd качестве онлайн',\n",
       " 'Запретная зона смотреть бесплатно в хорошем hd качестве онлайн',\n",
       " 'Великий уравнитель смотреть бесплатно в хорошем hd качестве онлайн',\n",
       " 'Дружба и никакого секса? смотреть бесплатно в хорошем hd качестве онлайн',\n",
       " 'Открытые окна смотреть бесплатно в хорошем hd качестве онлайн',\n",
       " 'Хичкок смотреть бесплатно в хорошем hd качестве онлайн',\n",
       " 'Президент Линкольн: Охотник на вампиров смотреть бесплатно в хорошем hd качестве онлайн',\n",
       " 'Линкольн смотреть бесплатно в хорошем hd качестве онлайн',\n",
       " 'Охота смотреть бесплатно в хорошем hd качестве онлайн',\n",
       " 'Возвращение смотреть бесплатно в хорошем hd качестве онлайн',\n",
       " 'Барабанная дробь смотреть бесплатно в хорошем hd качестве онлайн',\n",
       " 'Библиотекарь: В поисках копья судьбы смотреть бесплатно в хорошем hd качестве онлайн',\n",
       " 'Библиотекарь 2: Возвращение в Копи Царя Соломона смотреть бесплатно в хорошем hd качестве онлайн']"
      ]
     },
     "execution_count": 14,
     "metadata": {},
     "output_type": "execute_result"
    }
   ],
   "source": [
    "movies_titles"
   ]
  },
  {
   "cell_type": "code",
   "execution_count": 25,
   "metadata": {
    "collapsed": true
   },
   "outputs": [],
   "source": [
    "url = links_to_movies[0]\n",
    "html = requests.get(url).text\n",
    "soup = BeautifulSoup(html, 'lxml')"
   ]
  },
  {
   "cell_type": "code",
   "execution_count": 34,
   "metadata": {
    "collapsed": false
   },
   "outputs": [
    {
     "data": {
      "text/plain": [
       "'Огонь Кристиана Лубутена (2013) смотреть онлайн бесплатно - 15 дек 2013'"
      ]
     },
     "execution_count": 34,
     "metadata": {},
     "output_type": "execute_result"
    }
   ],
   "source": [
    "soup.find('title').get_text().encode('ISO-8859-1').decode('utf-8')"
   ]
  },
  {
   "cell_type": "code",
   "execution_count": null,
   "metadata": {
    "collapsed": true
   },
   "outputs": [],
   "source": []
  },
  {
   "cell_type": "code",
   "execution_count": 115,
   "metadata": {
    "collapsed": false
   },
   "outputs": [],
   "source": [
    "# movies_descriptions = []\n",
    "# for url in links_to_movies:\n",
    "#     html = requests.get(url).text\n",
    "#     soup = BeautifulSoup(html, 'lxml')\n",
    "#     try:\n",
    "#         title = description = soup.find(attrs={'name' : 'description'}).encode('windows-1252').decode('windows-1251')\n",
    "#     except UnicodeEncodeError:\n",
    "#         continue\n",
    "#     movies_descriptions.append(title)"
   ]
  },
  {
   "cell_type": "code",
   "execution_count": null,
   "metadata": {
    "collapsed": true
   },
   "outputs": [],
   "source": []
  }
 ],
 "metadata": {
  "anaconda-cloud": {},
  "kernelspec": {
   "display_name": "Python [default]",
   "language": "python",
   "name": "python3"
  },
  "language_info": {
   "codemirror_mode": {
    "name": "ipython",
    "version": 3
   },
   "file_extension": ".py",
   "mimetype": "text/x-python",
   "name": "python",
   "nbconvert_exporter": "python",
   "pygments_lexer": "ipython3",
   "version": "3.5.2"
  }
 },
 "nbformat": 4,
 "nbformat_minor": 1
}
